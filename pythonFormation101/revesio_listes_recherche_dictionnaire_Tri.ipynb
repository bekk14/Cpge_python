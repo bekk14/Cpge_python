{
  "cells": [
    {
      "cell_type": "markdown",
      "metadata": {
        "id": "9cO61oCCQBCA"
      },
      "source": [
        "# **Recherche d'un élément dans une liste **"
      ]
    },
    {
      "cell_type": "code",
      "execution_count": 48,
      "metadata": {
        "id": "p_HuMpt3Qh5h"
      },
      "outputs": [],
      "source": [
        "\n",
        "#import random\n",
        "from random import randint\n",
        "\n",
        "liste=[ randint(1,100) for _ in range(12)]\n",
        "\n",
        "\n",
        "\n",
        "#liste_aleatoire = [random.randint(1, 50) for _ in range(10)]\n",
        "#print(liste_aleatoire)\n",
        "#liste_aleatoire = [randint(1, 50) for _ in range(10)]\n",
        "#print(liste_aleatoire)"
      ]
    },
    {
      "cell_type": "code",
      "execution_count": 49,
      "metadata": {
        "colab": {
          "base_uri": "https://localhost:8080/"
        },
        "id": "kRulreKXfP06",
        "outputId": "40712f64-6361-4391-d207-cba5f294b812"
      },
      "outputs": [
        {
          "data": {
            "text/plain": [
              "[19, 58, 60, 85, 80, 11, 15, 15, 24, 55, 18, 60]\n"
            ]
          },
          "metadata": {},
          "output_type": "display_data"
        }
      ],
      "source": [
        "print(liste)"
      ]
    },
    {
      "cell_type": "markdown",
      "metadata": {
        "id": "xL9kfxT-O0VC"
      },
      "source": [
        "***Question 1:***\n",
        "Ecrire une fonction *Appartient(x,L)* qui renvoie True si x (nombre ou chaine de caractères d’une seule lettre) se trouve dans L (liste ou chaine de caractères) et False sinon à l'aide d'une recherche séquentielle\n",
        "\n",
        "\n"
      ]
    },
    {
      "cell_type": "code",
      "execution_count": 51,
      "metadata": {
        "colab": {
          "base_uri": "https://localhost:8080/"
        },
        "id": "aTa0onHPfgrH",
        "outputId": "7c7d6fc7-dc6c-448f-eed6-af091a06cb6f"
      },
      "outputs": [
        {
          "data": {
            "text/plain": [
              "False"
            ]
          },
          "execution_count": 51,
          "metadata": {},
          "output_type": "execute_result"
        }
      ],
      "source": [
        "def Appartient(element,L):\n",
        "  if element in L:\n",
        "    return True\n",
        "  return False\n",
        "\n",
        "Appartient(100,liste)"
      ]
    },
    {
      "cell_type": "code",
      "execution_count": null,
      "metadata": {
        "cellView": "form",
        "id": "kpmxvH_rQJfe"
      },
      "outputs": [],
      "source": [
        "# @title Titre par défaut\n",
        "\n",
        "\n",
        "def Appartient(x,L):\n",
        "  for i in L:\n",
        "    if i == x:\n",
        "      return True\n",
        "  return False\n"
      ]
    },
    {
      "cell_type": "markdown",
      "metadata": {
        "id": "Qavkzk-nO8Mh"
      },
      "source": [
        "***Question 2:***\n",
        "Ecrire une fonction Indice(x,L) qui renvoie un indice où se trouve x s'il est présent dans L et None sinon. L'indice renvoyé sera l'indice Python.\n",
        "On n'impose pas de comportement particulier dans le cas où x est présent plusieurs fois."
      ]
    },
    {
      "cell_type": "code",
      "execution_count": 57,
      "metadata": {
        "colab": {
          "base_uri": "https://localhost:8080/"
        },
        "id": "TfwVwMe7QJ-R",
        "outputId": "2ad14003-fc45-46d8-826d-099b99ef8340"
      },
      "outputs": [
        {
          "data": {
            "text/plain": [
              "[]\n"
            ]
          },
          "metadata": {},
          "output_type": "display_data"
        }
      ],
      "source": [
        "# @title Titre par défaut\n",
        "\n",
        "def Indice(x,L):\n",
        "  position=[] # liste vide\n",
        "  for i in range(len(L)):\n",
        "    if L[i] == x:\n",
        "      position.append(i)  #\n",
        "\n",
        "  return position\n",
        "\n",
        "liste = [65, 80, 1, 60, 86, 57, 97, 10, 1, 60, 60, 32]\n",
        "print(Indice(600,liste))\n",
        "# 3 9 10\n",
        "\n"
      ]
    },
    {
      "cell_type": "markdown",
      "metadata": {
        "id": "VLkdVTp3PQEm"
      },
      "source": [
        "***Question 3:***\n",
        "Ecrire une fonction ListePositions(x,L) qui renvoie la liste\n",
        "(éventuellement vide) de toutes les positions de l'élément x dans L"
      ]
    },
    {
      "cell_type": "code",
      "execution_count": null,
      "metadata": {
        "id": "dmRKatCfQKlT"
      },
      "outputs": [],
      "source": [
        "# @title Titre par défaut\n",
        "#def ListePositions(x,L):\n",
        "#  positions = []\n",
        "#  for i in range(len(L)):\n",
        "#    if L[i] == x:\n",
        "#      positions.append(i)\n",
        "#  return positions\n"
      ]
    },
    {
      "cell_type": "markdown",
      "metadata": {
        "id": "vepwEYrk5miC"
      },
      "source": [
        "<iframe width=\"800\" height=\"500\" frameborder=\"0\" src=\"https://pythontutor.com/iframe-embed.html#code=from%20random%20import%20randint%0A%0Adef%20Appartient%28x,L%29%3A%0A%20%20for%20i%20in%20L%3A%0A%20%20%20%20if%20i%20%3D%3D%20x%3A%0A%20%20%20%20%20%20return%20True%0A%20%20return%20False%0A%20%20%0Al%20%3D%20%5Brandint%281,%2050%29%20for%20_%20in%20range%2810%29%5D%0A%0Aprint%28Appartient%285,l%29%29&codeDivHeight=400&codeDivWidth=350&cumulative=false&curInstr=0&heapPrimitives=nevernest&origin=opt-frontend.js&py=311&rawInputLstJSON=%5B%5D&textReferences=false\"> </iframe>"
      ]
    },
    {
      "cell_type": "markdown",
      "metadata": {
        "id": "Yei6zlyR54x1"
      },
      "source": [
        "\n",
        "\n",
        "```\n",
        "# la valeur le plus petit d'une lsite\n",
        "```\n",
        "\n"
      ]
    },
    {
      "cell_type": "code",
      "execution_count": 61,
      "metadata": {
        "colab": {
          "base_uri": "https://localhost:8080/"
        },
        "id": "IjLmTDP9jJVL",
        "outputId": "c4e60c77-0272-4164-e3de-9a73a705cd33"
      },
      "outputs": [
        {
          "data": {
            "text/plain": [
              "[42, 50, 38, 9, 46, 17, 40, 36, 23, 44]\n"
            ]
          },
          "metadata": {},
          "output_type": "display_data"
        }
      ],
      "source": [
        "nombre=[ randint(1,50) for i in range(10)]\n",
        "print(nombre)\n"
      ]
    },
    {
      "cell_type": "code",
      "execution_count": 64,
      "metadata": {
        "colab": {
          "base_uri": "https://localhost:8080/"
        },
        "id": "8zFGnA2QjiDb",
        "outputId": "1052e011-d615-4cba-fb12-4bfb1aaba01b"
      },
      "outputs": [
        {
          "data": {
            "text/plain": [
              "203"
            ]
          },
          "execution_count": 64,
          "metadata": {},
          "output_type": "execute_result"
        }
      ],
      "source": [
        "def minListe(l:liste):\n",
        "  min = l[0]\n",
        "  for i in range(1,len(l)):\n",
        "     if l[i] <= min :\n",
        "         min =l[i]\n",
        "  return min\n"
      ]
    },
    {
      "cell_type": "markdown",
      "metadata": {
        "id": "2GN5bqa6PXuG"
      },
      "source": [
        "# ***Dictionnaire***"
      ]
    },
    {
      "cell_type": "markdown",
      "metadata": {
        "id": "ndRyjz8pROfI"
      },
      "source": [
        "1. ***declaration d'un dictionaire***"
      ]
    },
    {
      "cell_type": "code",
      "execution_count": null,
      "metadata": {
        "id": "9tLKeGpWRV44"
      },
      "outputs": [],
      "source": [
        "# @title Titre par défaut\n",
        "\n",
        "mon_dictionnaire = {}  # Dictionnaire vide\n",
        "ensemble = set{}\n",
        "\n",
        "\n",
        "mon_dictionnaire={10:\"octobre\",nom:\"Hamza\",age:\"30\"}\n",
        "\n",
        "\n",
        "\n",
        "\n",
        "\n",
        "\n",
        "\n",
        "\n",
        "\n",
        "mon_dictionnaire = {\"pomme\": 3, \"banane\": 2, \"orange\": 5}  # Dictionnaire avec des paires clé-valeur\n",
        "\n",
        "mon_dictionnaire = {\"pomme\": 3, \"banane\": 2, \"orange\": 5}\n",
        "# Accéder aux éléments\n",
        "print(mon_dictionnaire[\"pomme\"])  # Affiche 3\n",
        "print(mon_dictionnaire[\"cerise\"])  # erreur\n",
        "# Ajouter ou modifier des éléments\n",
        "mon_dictionnaire[\"cerise\"] = 1\n",
        "mon_dictionnaire[\"banane\"] = 4  # Modifie la valeur associée à \"banane\"\n",
        "# Supprimer des éléments\n",
        "del mon_dictionnaire[\"orange\"]\n",
        "mon_dictionnaire.pop(\"orange\")  # Alternative avec retour de la valeur supprimée\n",
        "# Vérifier si une clé existe\n",
        "if \"pomme\" in mon_dictionnaire:\n",
        "    print(\"Il y a des pommes\")\n",
        "# Parcourir un dictionnaire\n",
        "for cle in mon_dictionnaire:\n",
        "    print(cle, mon_dictionnaire[cle])\n",
        "# Autres méthodes utiles\n",
        "print(mon_dictionnaire.keys())  # Affiche les clés\n",
        "print(mon_dictionnaire.values())  # Affiche les valeurs\n",
        "print(mon_dictionnaire.items())  # Affiche les paires (clé, valeur)\n"
      ]
    },
    {
      "cell_type": "code",
      "execution_count": 96,
      "metadata": {
        "colab": {
          "base_uri": "https://localhost:8080/"
        },
        "id": "cpeUIP-Voest",
        "outputId": "6923fd05-547e-4206-d75c-9b60ca36fd7b"
      },
      "outputs": [
        {
          "name": "stdout",
          "output_type": "stream",
          "text": [
            "10  ___ \n",
            "nom  ___ \n",
            "age  ___ \n",
            "adresse  ___ \n"
          ]
        }
      ],
      "source": [
        "mon_dictionnaire={10:\"octobre\",'nom':\"Hamza\",'age':\"30\"}\n",
        "mon_dictionnaire\n",
        "len(mon_dictionnaire)\n",
        "mon_dictionnaire['adresse']='fes'\n",
        "del mon_dictionnaire['adresse']\n",
        "mon_dictionnaire\n",
        "if 'adresse' in mon_dictionnaire:\n",
        "     print(mon_dictionnaire['adresse'])\n",
        "else:\n",
        "      mon_dictionnaire['adresse']='Oujda'\n",
        "\n",
        "\n",
        "#mon_dictionnaire.items()\n",
        "\n",
        "for el  in mon_dictionnaire.keys():\n",
        "    print(el,\" ___ \")\n"
      ]
    },
    {
      "cell_type": "code",
      "execution_count": null,
      "metadata": {
        "id": "-KDXgrHbR9gp"
      },
      "outputs": [],
      "source": [
        "# @title Titre par défaut\n",
        "# Parcours par clés\n",
        "for cle in mon_dictionnaire:\n",
        "  print(cle)\n",
        "# Parcours par valeurs\n",
        "for valeur in mon_dictionnaire.values():\n",
        "  print(valeur)\n",
        "# Parcours par clés et valeurs\n",
        "for cle, valeur in mon_dictionnaire.items():\n",
        "  print(cle, valeur)\n"
      ]
    },
    {
      "cell_type": "markdown",
      "metadata": {
        "id": "lSYTQj_VSwRg"
      },
      "source": [
        "2.*** Comptage par dictionnaire***"
      ]
    },
    {
      "cell_type": "markdown",
      "metadata": {
        "id": "ba0c9qSOS3ht"
      },
      "source": [
        "\n",
        "Écrire une fonction `Mot_to_dic(mot)` qui prend en entrée un mot (chaîne de caractères) et renvoie un dictionnaire où les clés sont les lettres du mot et les valeurs sont le nombre d'occurrences de chaque lettre dans le mot.\n",
        "\n",
        "Par exemple, pour le mot \"banane\", la fonction devrait renvoyer le dictionnaire suivant : \"ACCTAGCCCTA\" || `{'A': 3, 'C': 5, 'T': 2, 'G': 1}`"
      ]
    },
    {
      "cell_type": "code",
      "execution_count": 100,
      "metadata": {
        "colab": {
          "base_uri": "https://localhost:8080/"
        },
        "id": "aCOKivqiuIxX",
        "outputId": "1a6f614f-cb03-4cf9-a013-04a7df83b6cf"
      },
      "outputs": [
        {
          "name": "stdout",
          "output_type": "stream",
          "text": [
            "ACCTAGCCCTA {}\n",
            "A\n",
            "{'A': 1}\n",
            "C\n",
            "{'A': 1, 'C': 1}\n",
            "C\n",
            "T\n",
            "{'A': 1, 'C': 2, 'T': 1}\n",
            "A\n",
            "G\n",
            "{'A': 2, 'C': 2, 'T': 1, 'G': 1}\n",
            "C\n",
            "C\n",
            "C\n",
            "T\n",
            "A\n"
          ]
        },
        {
          "data": {
            "text/plain": [
              "{'A': 3, 'C': 5, 'T': 2, 'G': 1}"
            ]
          },
          "execution_count": 100,
          "metadata": {},
          "output_type": "execute_result"
        }
      ],
      "source": [
        "def Mot_to_dico(mot:str):\n",
        "   dico={}\n",
        "   for caractere in mot :\n",
        "\n",
        "       if caractere in dico:\n",
        "            dico[caractere] += 1\n",
        "       else:\n",
        "            dico[caractere] = 1\n",
        "\n",
        "   return dico\n",
        "\n",
        "Mot_to_dico(\"ACCTAGCCCTA\")"
      ]
    },
    {
      "cell_type": "code",
      "execution_count": 102,
      "metadata": {
        "colab": {
          "base_uri": "https://localhost:8080/"
        },
        "id": "o-v7d7iLPhNL",
        "outputId": "dcf07c0d-8fa0-4a93-ae46-6096c2b67f8e"
      },
      "outputs": [
        {
          "name": "stdout",
          "output_type": "stream",
          "text": [
            "{'A': 3, 'C': 5, 'T': 2, 'G': 1}\n"
          ]
        }
      ],
      "source": [
        "# @title Titre par défaut\n",
        "\n",
        "\n",
        "#exemple 1\n",
        "def Mot_to_dico(texte):\n",
        "    dictionnaire = {}\n",
        "    for lettre in texte:\n",
        "        if lettre in dictionnaire:  # Si la lettre a déjà été trouvée\n",
        "            dictionnaire[lettre] += 1  # On rajoute 1 valeur\n",
        "        else:  # Sinon, on crée la clé et la valeur\n",
        "            dictionnaire[lettre] = 1\n",
        "    return dictionnaire\n",
        "\n",
        "\n",
        "\n",
        "test = Mot_to_dico('ACCTAGCCCTA')\n",
        "print(test)\n",
        "\n",
        "\n"
      ]
    },
    {
      "cell_type": "code",
      "execution_count": 105,
      "metadata": {
        "colab": {
          "base_uri": "https://localhost:8080/"
        },
        "id": "Vl8DiZhmUhu7",
        "outputId": "ac1e1cd5-a918-4806-ddc3-fa6215f7d606"
      },
      "outputs": [
        {
          "name": "stdout",
          "output_type": "stream",
          "text": [
            "{'A': 1, 'n': 92, 't': 67, 'o': 67, ' ': 180, 'V': 1, 'y': 3, 'l': 64, \"'\": 20, 'a': 105, 'r': 45, 'i': 84, 'v': 13, 'p': 27, 's': 68, 'à': 4, 'd': 21, 'm': 15, '.': 16, 'I': 9, 'u': 68, 'S': 4, 'J': 1, 'z': 1, 'q': 8, 'g': 10, 'f': 13, ',': 23, 'c': 17, 'h': 6, ';': 2, 'b': 10, '\\n': 2, 'x': 2, 'U': 2, 'D': 1, '-': 1, 'M': 1, 'ç': 2, 'ô': 1, 'î': 1}\n",
            "Il y a  1  a dans le texte\n"
          ]
        }
      ],
      "source": [
        "# exemple 2\n",
        "\n",
        "extrait = \"\"\"Anton Voyl n'arrivait pas à dormir. Il alluma. Son Jaz marquait minuit vingt. Il poussa un profond soupir, s'assit dans son lit, s'appuyant sur son polochon. Il prit un roman, il l'ouvrit, il lut; mais il n'y saisissait qu'un imbroglio confus, il butait à tout instant sur un mot dont il ignorait la signification.\\n Il abandonna son roman sur son lit. Il alla à son lavabo; il mouilla un gant qu'il passa sur son front, sur son cou.\\n Son pouls battait trop fort. Il avait chaud. Il ouvrit son vasistas, scruta la nuit. Il faisait doux. Un bruit indistinct montait du faubourg. Un carillon, plus lourd qu'un glas, plus  sourd qu'un tocsin, plus profond qu'un bourdon, non loin, sonna trois coups. Du canal Saint-Martin, un clapotis plaintif signalait un chaland qui passait. Sur l'abattant du vasistas, un animal au thorax indigo, à l'aiguillon safran, ni un cafard, ni un charançon, mais plutôt un artison, s'avançait, traînant un brin d'alfa. Il s'approcha, voulant l'aplatir d'un coup vif, mais l'animal prit son vol, disparaissant dans la nuit avant qu'il ait pu l'assaillir.\"\"\"\n",
        "dico = Mot_to_dico(extrait)\n",
        "print(dico)\n",
        "# Nombre de 'a' :\n",
        "print(\"Il y a \",dico['A'],\" a dans le texte\")\n",
        "\n"
      ]
    },
    {
      "cell_type": "markdown",
      "metadata": {
        "id": "12KyejhUVb-2"
      },
      "source": [
        " recrire la fonction `Mot_to_dico()` comme etant donnée une chaine de caractère texte, Renvoie un dictionnaire de tous les mots de 2 lettres avec leurs occurences : `'''{'AC': 1, 'CC': 3, 'CT': 2, 'TA': 2, 'AG': 1, 'GC': 1}'''`"
      ]
    },
    {
      "cell_type": "code",
      "execution_count": 109,
      "metadata": {
        "colab": {
          "base_uri": "https://localhost:8080/",
          "height": 35
        },
        "id": "-Uz1pyOsyKvN",
        "outputId": "919d7a88-51fd-4cbc-b15c-e8e90eea7263"
      },
      "outputs": [
        {
          "data": {
            "application/vnd.google.colaboratory.intrinsic+json": {
              "type": "string"
            },
            "text/plain": [
              "'CT'"
            ]
          },
          "execution_count": 109,
          "metadata": {},
          "output_type": "execute_result"
        }
      ],
      "source": [
        "texte='ACCTAGCCCTA'\n",
        "mot=texte[i:i+2]\n",
        "mot"
      ]
    },
    {
      "cell_type": "code",
      "execution_count": 111,
      "metadata": {
        "colab": {
          "base_uri": "https://localhost:8080/"
        },
        "id": "1H8_43wvUkdF",
        "outputId": "66748324-24ff-4880-d291-afdd6e2d4603"
      },
      "outputs": [
        {
          "name": "stdout",
          "output_type": "stream",
          "text": [
            "{'AC': 1, 'CC': 3, 'CT': 2, 'TA': 2, 'AG': 1, 'GC': 1}\n"
          ]
        }
      ],
      "source": [
        "\n",
        "def Compte_mots_2_lettres(texte):\n",
        "    '''Etant donnée une chaine de caractère texte,\n",
        "    Renvoie un dictionnaire de tous les mots de 2 lettres avec leurs occurences'''\n",
        "\n",
        "    dico = {}\n",
        "    for i in range(len(texte)-2+1):\n",
        "        mot = texte[i:i+2]\n",
        "        if mot in dico:\n",
        "            dico[mot] += 1\n",
        "        else:\n",
        "            dico[mot] = 1\n",
        "\n",
        "    return dico\n",
        "\n",
        "test = Compte_mots_2_lettres('ACCTAGCCCTA')\n",
        "print(test)\n"
      ]
    },
    {
      "cell_type": "markdown",
      "metadata": {
        "id": "vZWpm998VbP8"
      },
      "source": [
        "***généraliser la fonction précédente : nommez-la `Compte_mots_k_lettres(texte,k)`. Cette fonction prend une chaîne de caractères texte et un entier k en entrée, et renvoie un dictionnaire contenant tous les mots de k lettres avec leurs occurrences.***"
      ]
    },
    {
      "cell_type": "code",
      "execution_count": 114,
      "metadata": {
        "id": "6MKgKDtLUq81"
      },
      "outputs": [],
      "source": [
        "\n",
        "# Question 4\n",
        "\n",
        "def Compte_mots_k_lettres(texte,k):\n",
        "    '''Etant donnée une chaine de caractère texte et un entier k,\n",
        "    Renvoie un dictionnaire de tous les mots de k lettres avec leurs occurences'''\n",
        "    dico = {}\n",
        "    for i in range(len(texte)-k+1):\n",
        "        mot = texte[i:i+k]\n",
        "        if mot in dico:\n",
        "            dico[mot] += 1\n",
        "        else:\n",
        "            dico[mot] = 1\n",
        "    return dico\n",
        "\n"
      ]
    },
    {
      "cell_type": "code",
      "execution_count": 117,
      "metadata": {
        "colab": {
          "base_uri": "https://localhost:8080/"
        },
        "id": "fNye6E9jUuum",
        "outputId": "47767915-f2e4-4532-8982-01b737f09563"
      },
      "outputs": [
        {
          "name": "stdout",
          "output_type": "stream",
          "text": [
            "{'ACCT': 1, 'CCTA': 2, 'CTAG': 5, 'TAGC': 5, 'AGCC': 1, 'GCCA': 1, 'CCAT': 1, 'CATG': 1, 'ATGT': 1, 'TGTA': 1, 'GTAG': 1, 'TAGA': 1, 'AGAA': 1, 'GAAT': 1, 'AATC': 1, 'ATCG': 1, 'TCGC': 1, 'CGCC': 1, 'GCCT': 1, 'TAGG': 1, 'AGGC': 1, 'GGCT': 1, 'GCTT': 1, 'CTTT': 1, 'TTTA': 1, 'TTAG': 1, 'AGCT': 4, 'GCTA': 2, 'GCTC': 1, 'CTCT': 1, 'TCTA': 1, 'GCTG': 1}\n",
            "5\n"
          ]
        }
      ],
      "source": [
        "\n",
        "\n",
        "seq_ADN = 'ACCTAGCCATGTAGAATCGCCTAGGCTTTAGCTAGCTCTAGCTAGCTG'\n",
        "dico = Compte_mots_k_lettres(seq_ADN,4)\n",
        "print(dico)\n",
        "rep = dico['CTAG']\n",
        "print(rep)\n"
      ]
    },
    {
      "cell_type": "markdown",
      "metadata": {
        "id": "szV9IGxnW0Qr"
      },
      "source": [
        "# **Tri**"
      ]
    },
    {
      "cell_type": "markdown",
      "metadata": {
        "id": "IAjrClXaW4Dj"
      },
      "source": [
        "***methode predefinie de python : sort()***"
      ]
    },
    {
      "cell_type": "code",
      "execution_count": 118,
      "metadata": {
        "colab": {
          "base_uri": "https://localhost:8080/"
        },
        "id": "rQySzuHGhdgz",
        "outputId": "f9d22374-dfa2-40a9-9eb0-209163333211"
      },
      "outputs": [
        {
          "name": "stdout",
          "output_type": "stream",
          "text": [
            "[-2, 1, 5, 8, 9]\n",
            "['banane', 'cerise', 'orange', 'pomme']\n",
            "[9, 8, 5, 1, -2]\n"
          ]
        }
      ],
      "source": [
        "# Tri d'une liste de nombres\n",
        "nombres = [5, -2, 8, 1, 9]\n",
        "nombres.sort()  # Tri par ordre croissant\n",
        "print(nombres)\n",
        "\n",
        "# Tri d'une liste de chaînes de caractères\n",
        "fruits = [\"banane\", \"pomme\", \"orange\", \"cerise\"]\n",
        "fruits.sort()  # Tri par ordre alphabétique\n",
        "print(fruits)\n",
        "\n",
        "# Tri en ordre décroissant\n",
        "nombres.sort(reverse=True)\n",
        "print(nombres)\n",
        "\n",
        "\n"
      ]
    },
    {
      "cell_type": "markdown",
      "metadata": {
        "id": "EdwH7Rbvh5A6"
      },
      "source": [
        "***Tri personnalisé avec une fonction clé***"
      ]
    },
    {
      "cell_type": "code",
      "execution_count": 119,
      "metadata": {
        "colab": {
          "base_uri": "https://localhost:8080/"
        },
        "id": "mAS8hb59h5k6",
        "outputId": "35ca0dfb-f531-46df-bd55-e072fafec44e"
      },
      "outputs": [
        {
          "name": "stdout",
          "output_type": "stream",
          "text": [
            "['train', 'avion', 'bateau', 'voiture']\n"
          ]
        }
      ],
      "source": [
        "def longueur_mot(mot):\n",
        "  return len(mot)\n",
        "\n",
        "mots = [\"voiture\", \"train\", \"avion\", \"bateau\"]\n",
        "mots.sort(key=longueur_mot)  # Tri par longueur de mot\n",
        "print(mots)  # Affiche [\"train\", \"avion\", \"bateau\", \"voiture\"]"
      ]
    },
    {
      "cell_type": "markdown",
      "metadata": {
        "id": "yyAaTPs8h-4f"
      },
      "source": [
        "***Tri de tuples dans une liste***"
      ]
    },
    {
      "cell_type": "markdown",
      "metadata": {
        "id": "u3H_7kT_wACP"
      },
      "source": [
        "*Tri par le premier élément du tuple*"
      ]
    },
    {
      "cell_type": "code",
      "execution_count": null,
      "metadata": {
        "colab": {
          "base_uri": "https://localhost:8080/"
        },
        "id": "Z_T1VYe5iCMv",
        "outputId": "9d4bede4-b885-446e-c82b-58e5eedc9508"
      },
      "outputs": [
        {
          "name": "stdout",
          "output_type": "stream",
          "text": [
            "[(1, 'banane'), (2, 'orange'), (3, 'pomme')]\n"
          ]
        }
      ],
      "source": [
        "data = [(3, \"pomme\"), (1, \"banane\"), (2, \"orange\")]\n",
        "data.sort()\n",
        "print(data)"
      ]
    },
    {
      "cell_type": "markdown",
      "metadata": {
        "id": "vzpYscuVv-o1"
      },
      "source": [
        "Tri par le deuxième élément du tuple (chaîne de caractères)"
      ]
    },
    {
      "cell_type": "code",
      "execution_count": 122,
      "metadata": {
        "colab": {
          "base_uri": "https://localhost:8080/"
        },
        "id": "bwj9YKgev_LP",
        "outputId": "70cd103f-5b2a-4785-95b2-470f4c189cea"
      },
      "outputs": [
        {
          "name": "stdout",
          "output_type": "stream",
          "text": [
            "[(2, 'arange'), (1, 'banane'), (3, 'pomme')]\n"
          ]
        }
      ],
      "source": [
        "data = [(3, \"pomme\"), (1, \"banane\"), (2, \"arange\")]\n",
        "data.sort(key=lambda x: x[1])\n",
        "print(data)"
      ]
    },
    {
      "cell_type": "markdown",
      "metadata": {
        "id": "ALEJb8koui1e"
      },
      "source": [
        "exemple 2: si je veux un tri croissant selon l'age et en cas d'egalite , par ordre alphabetique du nom"
      ]
    },
    {
      "cell_type": "code",
      "execution_count": 129,
      "metadata": {
        "colab": {
          "base_uri": "https://localhost:8080/"
        },
        "id": "zwXtJAW-uxhn",
        "outputId": "fc6552e4-e605-417c-c91a-e332bd19cdf1"
      },
      "outputs": [
        {
          "name": "stdout",
          "output_type": "stream",
          "text": [
            "[('Hakim', 20), ('Charlie', 25), ('anas', 30), ('arine', 30)]\n"
          ]
        }
      ],
      "source": [
        "etud = [(\"anas\", 30), (\"arine\", 30), (\"Charlie\", 25), (\"Hakim\", 20)]\n",
        "\n",
        "def tri_personnes(personne:list):\n",
        "  return (personne[1], personne[0])\n",
        "\n",
        "etud.sort(key= lambda x : (x[1],x[0]))\n",
        "#etud.sort(key=tri_personnes)\n",
        "#etud.sort(key=lambda tab: (tab[1], tab[0]))\n",
        "print(etud)\n",
        "\n"
      ]
    },
    {
      "cell_type": "markdown",
      "metadata": {
        "id": "O1ScYq6Fiil1"
      },
      "source": [
        " ***Tri de dictionnaires dans une liste***"
      ]
    },
    {
      "cell_type": "code",
      "execution_count": null,
      "metadata": {
        "id": "aQYTiMX0iivt"
      },
      "outputs": [],
      "source": [
        "# Tri de dictionnaires dans une liste\n",
        "personnes = [\n",
        "    {\"nom\": \"Alice\", \"age\": 30},\n",
        "    {\"nom\": \"Bob\", \"age\": 25},\n",
        "    {\"nom\": \"Charlie\", \"age\": 35}\n",
        "]\n",
        "\n",
        "# Tri par nom\n",
        "personnes.sort(key=lambda personne: personne[\"nom\"])\n",
        "print(personnes)\n",
        "\n",
        "# Tri par âge\n",
        "personnes.sort(key=lambda personne: personne[\"age\"])\n",
        "print(personnes)\n"
      ]
    },
    {
      "cell_type": "markdown",
      "metadata": {
        "id": "OhmYoa1xw9ck"
      },
      "source": [
        "#** les algorithme de Tri Standards**#\n",
        "\n",
        "> ecrire une fonction `esTtriee(l:list)-> bool` qui teste si une list est triee ou non\n",
        "\n",
        "> ecrire une fonction qui trouve l'element le plus petit dans une liste `petitElem(l:list)-> int`"
      ]
    },
    {
      "cell_type": "code",
      "execution_count": 134,
      "metadata": {
        "colab": {
          "base_uri": "https://localhost:8080/"
        },
        "id": "Bl7fXAKs3ptp",
        "outputId": "b9699918-715e-4fae-cacd-59f1f2fe1054"
      },
      "outputs": [
        {
          "data": {
            "text/plain": [
              "False"
            ]
          },
          "execution_count": 134,
          "metadata": {},
          "output_type": "execute_result"
        }
      ],
      "source": [
        "def esTtriee(l):\n",
        "  for i in range(len(l)-1):\n",
        "    if l[i] > l[i+1]:\n",
        "        return False\n",
        "  return True\n",
        "\n",
        "esTtriee([1,2,3,8,5,6,7])\n"
      ]
    },
    {
      "cell_type": "markdown",
      "metadata": {
        "id": "laoLiIWzxz1Z"
      },
      "source": [
        " **Concept de tri par sélection**\n",
        "\n",
        " Le tri par sélection est un algorithme de tri simple. Il fonctionne en trouvant\n",
        " le plus petit élément de la liste non triée et en l'échangeant avec l'élément\n",
        " à la première position non triée. Ensuite, il trouve le deuxième plus petit\n",
        " élément et l'échange avec l'élément à la deuxième position non triée, et\n",
        " ainsi de suite jusqu'à ce que la liste soit entièrement triée.\n",
        "\n",
        "  **Étapes du tri par sélection**\n",
        "\n",
        "  1. Trouver le plus petit élément de la liste non triée.\n",
        "  2. Échanger cet élément avec l'élément à la première position non triée.\n",
        "  3. Répéter les étapes 1 et 2 pour le reste de la liste non triée, en commençant  par la deuxième position non triée.\n",
        "\n",
        " **Algorithme de tri par sélection**\n",
        "![image.png](data:image/png;base64,iVBORw0KGgoAAAANSUhEUgAAAkgAAAOACAYAAADB0ozCAAAgAElEQVR4Aey9C9wlV1mn++/7/ZJ0d0IHNQFhBBWD4C/OOCq36FGjYVQQDg4yKqgHDsOgTsDL4SJwRCfmQsIlCEbHJIQACYRbIEECBIgxIETkHhAJkBAICelO3/ud7/26qruqdtXa+6u9a1XVrqd+v/19e9eqqlXvs9auevaqVask2fsks4rXtyR7hWQHKtJ9/gWS+XJV2/gHya4LpH872cY0ebxfsmvH5DFtHNdPmcfBJM47A/v5AcneG0h3VucHysPzuFCyUB4flOw9gTzuGlPmk+ZxzZR5eL0KxfEhyabNw1l9M7CfN0yQxyTlEcrjw5K9O7APXh7j8njlmDg8j3cF8vjODPL4iGTvnDIPL487Atv46AzycFahPG6U7B2BfXBW5435Dr5qgjzeHiGPqwN53D1BmXsctwe28Y+SjcvDWe2v2IYfS7w8QnncNEEe547JY1wc/yTZ2yr20c9rzmpcHq8eE4fn8dYxeYxj5Xl8I7CNmyW7KpB+T1J3Q+XhrNrO42MTxBEqj0OSjWP1ccmuHMPqxxRYwCvGHskuH7PMG5PlqgTpE5L5zlSlzyKPT0rmUKvy2DtBHB6n70vVNm4ZE8ekedwXyONfJojjDYH1fd+9PEJ5fEoy/yJVxTlJHFdMkIcfEKbJY1wc/yrZuDymZfVpyfwAHYrjskC6rzeO1Wck8xNNVR77JJtFHn7iD+UxjpXHsTuwDY/DBabJPD4rWdNxfG6COMaVx5vGsPq8ZC6UIVaXBtJ9vUnycDGuysNPkpPEsSuwDY+j6Ty+MEEe41i9WbJQHF+UzH8MhVjNIg//URfKY1x5TBKH/wCeNo97A9u4VbJxcUzCKpTHlyQbF8clgX30+N8i2TR5+Db+KCtID174RXFc4bVOi5NtKcxPl9uSpK+rSPflViavdJ3i/1nlsSKwD+RxrGy9PEKs1s+ozIeUx+aKujfp92MSVm3msXXC7/k0cZDHse9o+h2sKvOYrNZW1O302D6LMg/lsWrC49U4VuQhm7RedYHV8kC9m1UcVXmcksjXHhckN2tv6tx85CDIXwhAAAIQgAAEIDBEAnbCsdapI9dWLx0iBmKGAAQgAAEIQAACxwjkBcn7nBxe6LyVNNseW4x3EIAABCAAAQhAYDgE8oKUdug6YTgAiBQCEIAABCAAAQgUCSBIRSJ8hgAEIAABCEBg8AQQpMFXAQBAAAIQgAAEIFAkYDuSTtqHs7f5c4mtyInPEIAABCAAAQgMiIAtSwaL/VsEaUDFTqgQgAAEIAABCIQImI8D5U9xuNUFyYfl9o7a20OrkAYBCEAAAhCAAATmm0C+D9LrkufQLJvvoIkOAhCAAAQgAAEIhAjkBenfJfMHMK4NrUIaBCAAAQhAAAIQmG8CeUFiHKT5Lm2igwAEIAABCEBgIgII0kSYWAgCEIAABCAAgSERQJCGVNrECgEIQAACEIDARAQQpIkwsRAEIAABCEAAAkMiYGsku12yzzEO0pDKnVghAAEIQAACEAgQWBwo8hrJ/h5BCmAiCQIQgAAEIACBIRHIP2rkU5LdJtnqISEgVghAAAIQgAAEIJAnkO+DdLlk10m2PL8QnyAAAQhAAAIQgMCQCOQF6XDyqJEdQ0JArBCAAAQgAAEIQCBPIC9IDBSZp8MnCEAAAhCAAAQGSQBBGmSxEzQEIAABCEAAAiECCFKIDmkQgAAEIAABCAySgG2W7JBku7nNf5AVgKAhAAEIQAACECgnYJdIdg6CVE6HuRCAAAQgAAEIDI6AbZHMb17b44J0r2QHJds0OA4EDAEIQAACEIAABI4SyPdBOkfy5iQmCEAAAhCAAAQgMGQCeUHal4yDtHXISIgdAhCAAAQgAIGhE8gLEuMgDb0+ED8EIAABCEAAAt7t6ISk0cjopE2FgAAEIAABCEAAAosEECQqAgQgAAEIQAACECgQsB1JC9JhWpAKaPgIAQhAAAIQgMBQCdgyyd4h2cUI0lDrAHFDAAIQgAAEIFAgYGsl+7ZkX3ZB8iG1vaP29sJSfIQABCAAAQhAAAIDIpDvg/Raya6SvFmJCQIQgAAEIAABCAyVQF6QvirZ3ZKtGyoO4oYABCAAAQhAAALc5k8dgAAEIAABCEAAAiME8i1IDBQ5AogZEIAABCAAAQgMjwCCNLwyJ2IIQAACEIAABMYQQJDGACIZAhCAAAQgAIHhEbA1kn1Dss8yDtLwSp+IIQABCEAAAhAoJbA4UOR7JLsUQSoFxEwIQAACEIAABIZHIP+okVsk+3fJVg8PBBFDAAIQgAAEIACBlEC+D9IVkl0n2fI0mf8QgAAEIAABCEBgeATygnQ4edTIjuGBIGIIQAACEIAABCCQEsgLEuMgpVz4DwEIQAACEIDAgAkgSAMufEKHAAQgAAEIQKCcAIJUzoW5EIAABCAAAQgMmIBtluyQZLu5zX/A1YDQIQABCEAAAhAoEvAxkOxcBKnIhc8QgAAEIAABCAyUgG2RzG9e2+uCdK9kByTbNFAahA0BCEAAAhCAAATciU5I7uw3/3CuZJfABQIQgAAEIAABCAybQF6Q9iW2tHXYUIgeAhCAAAQgAIFhE8gLEuMgDbs2ED0EIAABCEAAAosEECQqAgQgAAEIQAACECgQQJAKQPgIAQhAAAIQgAAEbHvS7egQt/lTGyAAAQhAAAIQgMAiAVsm2dWSvQ5BokpAAAIQgAAEIACBRQK2VrK7JPs3FyQfUts7am+HDgQgAAEIQAACEBgugXwfpIsku3K4MIgcAhCAAAQgAAEIOIG8IN0m2T2SrQMOBCAAAQhAAAIQGC6BvCAxDtJwawKRQwACEIAABCBwlACCdBQFbyAAAQhAAAIQgMARAggSNQECEIAABCAAAQgUCCBIBSBz/fF8STf35PVRSd9fUho/2ZP9Tzn/YUkMPuvtPYrj/ZLWl8TxGz2KwcvjV0pi8P6WaVn14f8bSmLwWS/qURz/uFD/H1kSxw/1KAavKy8ricFn/e8exXGDpBMq4mC2bLVkX5fs04yDNP/V4Z2SXi/piT143S7p9JIiOUPSbT3Yf2f8d5Kq7gr1cTX8pNb1sniKHxgknVRSFmdJcpHtegy+f/8g6SUlMWxI4nt6D+J4nqS7SmLwWRdLelMPYvCy+PzCy+tVcTpN0nd7EsMFC8cnl4uy6SZJ5/YkjvsknVoWBPOcgC2X7FrJLkOQ5r9GuCD9vz0J89aAILnN92H6gzGC9JgeBLF2jCD5SbkPk/8wCAnSiT0IwltdQoL04h7E4LvoUl0lSHf2JIanjhGkJ/UkDhdSBKmysGxHMjbkYT8OfuLIiJHerMQ0hwQQpLiFiiDF5R3KDUEK0YmbhiDF5R3KDUEK0SmMg/Rmyd5/pFkpuBaJ/SSAIMUtNwQpLu9QbghSiE7cNAQpLu9QbghSiE5BkNJxkHYE1yGxrwQQpLglhyDF5R3KDUEK0YmbhiDF5R3KDUEK0akQJHq1B6H1NhFBilt0CFJc3qHcEKQQnbhpCFJc3qHcEKQQHQQpSGfeEhGkuCWKIMXlHcoNQQrRiZuGIMXlHcoNQQrRQZCCdOYtEUGKW6IIUlzeodwQpBCduGkIUlzeodwQpBAd2WbJDkq2i9v8g6DmIhFBiluMCFJc3qHcEKQQnbhpCFJc3qHcEKQQncU0u1QyH9fK0k7aXe6D9CxJL5f0f4+NK84CK+NkM5NcmhAkH2H5hyU9VtKPSbrfTPZUanIcpO9dGO32gRO8pv0exBCk5ZLuL+lHk3Gj/nPFoI51i4VxkJZGzo8H/n14nCQf5+ohkryMZjExDtLSKXp5HLcwBtaKpa8aXINxkIJ45iXRtkp2WLK9LkjfleyAZJs6HN6NvqOSfGTLtiYfzfldku5O9sUt/FpJv9rWDk2Y7ywFyR8D4mWw2PSYcPBy8ZePlPuCCfeparEmBcm3ne5r6L+PhD3N1KQg+YCf78nUwWIcn1sYVPC/S5pW4JsWJBfVX5P0F5Kuk3RHMhiiD4hY9niTuuXRdAvSTkmvq/g+eCznSNpad+eT9ZoUpG9luPv+jntNM0Boky1I2yT9dvIony9JOpB81w9K+uTC+xdK8mWmndoQJP9h508RSMvmL6cNIhm5nIEiK0Hmn8V2ruTNSZ2e2hSkZZIuHHNy9SH/Z/WLcdYFMStB8lFifYj67El5caTRzDw/GE0zIUhhev4sqCx/f18sA5/3vilFo0lBSh9jUowj/eyPAZnV1KQg+TPEXOzS/fb/X5Pkj8vJzvti0tpXN6YmBelQYV+z+132/rV1g2hwJO0zM0JUts/pvG8s/Lj4T1Psv6/ahiD5j/I0Bv/vjzuZduISW5BgXpD2JZfZpv2lE8xyysQ2L7F5i0BaQT8o6dHJ5Qy/rOG/5tO0rg75PwtB+oXMQejrCyeB38sc9LdIerikP5JU9VDNSYs/hiD9/ZjLbF2+xOa/4F8j6QkLrH9AksuEC7y3ZPy6pM9m6qO3XtSdmhQk38/0O+N1yR/g+y+ZeX0QJGf+8cw++0nr+Azs75H0xkz61Zm0pb5tUpC8Ho17pt71mTh+Yqk7n1m+qRYklxavT7sl+Q/9/5aIkF/6f3LS6p/Wt+9kjluZXZv4bWxB8gdD+75/NVMGCNLExVV3wbwg9aEPUt1Ip13PB8902/ZK6r/e1xQ26Jcy/Knnnr5H0vcV0rvwcVpB8mv5fiLzGP3XsJ+Mm5piCJK3BjY5NXmJbdx+Z8vKLwWvGrdCRXqTguT9c36p0GfqoswJoA+C5H2//PvgLxe8ssmPDf+ULOMtNXXFu0lBKtvv7Dx//NQ3kxhcvl0M605NCdIvLvx4+5OFy5mbAzv2V5nyOj+w3LikmILk/Tq/Lcnrzn/J7D+CNK6Upk5HkCZF+D8zFbPsKfO+HT+ApQfLsgdjTppXU8tNK0jeryiN76eb2slkuwjS9ICzl4PrCnuTglQWYd8EyftPpd+Jp5cFlMzLfnfqtr60KUjZOP8wEOckSU0J0iR5e332PjxeZtM89DqmIL0l2V//PvsP9bS+IUiTlPhUy/RPkLxSeIfoP54q7qWv/KGkYvr169Cvp/TSxi1Lz6LxNaYRJI/53xIG/mu46QlBmp7wK5Py8r5JoV/VoZwQpBAd6WcyJyw/aVZNZ2WW85azOlObgnRNsv/e6XnaO1XbFCTnfkMSi3dMrzvFEiS/NOhC5H3avOsLglS3xGqtZ9uTbkeLffT6cImtjU7afoto2in5qjGcvTOoV2gHOsu7cMZkO1HyNIL0H5K4PDa/EySd/HKBX2b4wYU7kdalM2fwP4Yg/fVCJ+afkvQ0SX6N/+ckeT+qWU1tXmLzyzqfScrM+8jUnRCkMDk/YaXHBr+LrWpKBcM7bte93NmWIHk/Kr8LzL/7V1YFuIT5bQuS32XrsfiP2bpTDEHarmOd/x+f7CiCVLfEaq1nyyR7m2T+3e7FOEjjBOlRyXgwfhms7qs4Zobf0u5fKH/5r/LQ5B2U02VdHLo0TSNI2Q61PsyBXyZIf4ml8XrfKz+AuixNO8UQpHS/s//9ROAdoB88bQCS2hKkH0n6w3hc+5IxquqGgyCNJ/ei5DvvP4p+t3AXq/fdSdO9PH5z/OYql2hLkLKXB72fz7RTm4KU7TP26ikCiSFIlyf1yv+nE4KUkojy39ZK9h3J/t3L4lAiSW6uXZ3GCVJ6fTl70lvq+2LLj98Smm7jz8aA8Tsn0mW9RaJL0zSClO2D5QzSX5R+AvZbnP1/GrePjfR/TRl4LEHyjveelze3p/vv/+9JBvqbJoxYguTfCb9x4F8XpOzeTBx+KdRbyKaZEKTx9Pzys/8wSm/i8IOptxj5uE7prf5ev35r/KaCS7QhSB6b35Dh3wnvXjDtuFoeYFuC5D98064SfqnQ7/6sOzUtSH7zgjP3ztknZnYSQcrAaP5tvg/SayTzDmFdntoQpGw/g+eMgZPtzOi3znZpmkaQXpo58fovZReiZ2cuI7pU+uCFqSj5bbTeNF93alKQvLOjj8Hjd3plJ2/5uiQTp8v2NHfqxRKk/Zl9TiXP7zh6/hR3TKVcEKSURPi/D6773OQO1rQM0v8u2z54obOcZmpDkLwVPo3j/59m5zPrtiVI/gSGNJZxP3Qzu1v6tklB8sv8PiCk72uxxRFBKi2OpmbmBenryWjas+xLMus9HydIs87Pt/fzmS/W/zMmg1/JLNuVx6GkuzyNIL0sE5d/cavu2PETQXoQ8ufX1J2aFKRx+5Q9kE4zhlAsQfKy+J2Fljyvm373pA8o5xLr5XDnwufTxgUcSEeQAnCSJB8HLW0p8tbTKxZaWvwHxZ8v9M97W+ZHg9fpaS4/tyFIPlp++n2u27m8SLANQfLx2tKBVN87g5awJgXpbxPmPmxM8YYgBKlYmxr9nBckOmmXw/Zb2tODhI+zEZqyfXVmcb0+lNdS06YRpGzfKm9qL/bTSvfF5/sdF87Lm+brTm0Kko9xlZ7wfD/qTrEEqWz/flKSt+J5Ofiv0bpjCiFIZXSPzfPn4KWX9b1TfNlwCj7Sdjp+mN8JuvHY6kt6F1uQ/K6ptAP6B5a0p+GFYwuS34SR/mDwvOvyz0bVlCB5i52LnHN/UDbD5D2CVAKluVkI0iRs/Vk1qSD5QGOhyS87pctO2/8jlE+dtGkEyVso0ri8b0VoSu/Y8eWLA2qG1sumtSlIvh/eUdv33w9W3tG2ztSmIPn+eofhtMz8kmKdCUEKU8teevaWpKrJR6lOy8JbM+pMsQXJL5mn++ySMasppiB5K37aX9Lv5pzVUyKaECRvLfpKwtxbgr0LQPHlN4+kZeJ34abpdY+zPGokWKvnT5D8S+An12lexUuM/osjbZ4d9wDT/5WpwNP0XwkWW83EaQTJZS/9YvojOkLT32SW9V88daa2BWnxts4kjmJfpUnjaVuQvHUjLbO6/UcQpHBpp8/H8qd9hzow+zElPYb4YJh1ptiClD5CxTv+z6LVJY05liB5d4f0YbU+Lt0sbz5qQpD8GZ7p93Wp//0HbJ0JQQpSmz9BSpu7l1rBsssX72JzhP5kaF/mE0Ge0j8ky00zCNmYLGonTyNI/ssrPdj4A1BDU/pcumlaX9oWpLQcvQN0sR9AKPZsWtuC5GNUpfW67qi7CFK2REfffyxh7Jedx00uUV4e3i+pzhRTkHyoiLTu1BW6qhhjCJL3G015+3hH0w5uWYwFQSoSmcvPtlqy2yT7lH8f5qEPkjcFu01P8yr7JZiOSuzNtd9bURf8IZU+FpAfWPxuqK5N0wiSx+IjmHtsflt/GSNfxvsgpf0tphnKv01B8nGv0jvDfKynulPbguSDy6UnOd+XOhOCFKaWvZwcaml8QKYsXhveZGVqTEHKPqbmxyv3qF5C04LkQ4ykx2EfFPKkersZXKsJQfIMvYxDr+xdhf4Q5HTZuq1jtCAFi9mWS3adZItjUs2DIAXDnSLR+xekJ5uqu7OyA6r5L5iuTdMK0q9mGFT1o8j2e5nmVtqmBMk7L/tJv2ryX5ppq4CX9zOqFpxgflOC5Jdux/WL2pY8a8pj8Ja8uncgIUjhgvZHHqXHBf/+V03ZZ8z916qFxsyPJUhe5mlLvP9ynvXUpCD5kCypHH1Bkl9mbmJqSpDG7SudtMcRmmm67UgajhYvj39csi9LVnco/JnuWsXG2rjNP92V9NeityL57ezZSy8+/lE6BtCH0xU69n9aQfJ4r09OCN7C4gKQPuPLx4H5/UzLi9855S1qdaemBOnqZFBI7yflrYx+QPVRwc9cuNPL+4/5wGzpCe+DgZaySeJqSpBc2r66MAbVXyaPRzkl6azp4065yPtzv9JWPI+lbouFx9i0IPn3KNva68xT/n7DQzZtmlvk/RFAZQ+Q9rv7PL/sYHyTlG26jJ+w7k624XdK/YUkby3y74q3prqYZvuz+aX6uh1qYwmSd+hPy8DHdpr11JQgeT/J9K477zf1y5kWlrSlpfi/6m7ccTEjSOMIzUV6vg/SlZJ9QPJmpc5ObQqS/3JfHHI8OYD4tW0/4S5en0zm+e3hfsLq4jStIHlMfkLwS2fpAdRl0X9tpneK+Hy/BPdjUwJoUpDSfQ/9934ioUsmk4TXpCCF9j2bdukErU2hWJoWpLSfSHafq94/M7SjY9KaEiTP1i97pKNop/vurRjpD6Z0nn8v/I7YulMsQfK7VH2fff/r3mQRirEpQfJnRKasJ/2f/sAL7W9ZGoJURmXu5uUFiUts4wvYr2e/PXNHSvaL6H10Th6/idaWmIUg+c57J3YfBC/bSuEcvPXFn280i2v+TQnSwxcO/D6mk7PwX/Ppozn8hOb9FfwuxcfOqISaEiTvA+cxeGf59HJCth76+Ec+Iv7PziCOpgXJxw7ysp7kVffSlGNoUpB8+95q5JfRfGDObFn4ex8X7OwZjGoeQ5C8Jc0vTXl5+G3kTUwIUn2q3iqfflf8GX/TTvRBChLsnyD5pRz/ZV934LsgjiUkeiuRj7HhY4X44JBlg3otYXNRFp2VIKU7683TflnnEZIeGBg8Ml1+Kf/9IOC/zIuTPyh3ms7fxe355+yl0rL0uvOaEqTi/viv/B9eeFCw33lUdQNBcZ1JPzctSJPux7TLNS1I2f3z74S3FD1sxndPxRCkbBxNvW9KkJra37LtttWCVLYv08xDkIL0+idIwXBIDBKYtSAFM5syMaYgTbmrlavHEqTKHZhBAoI0A4gz2gSCNCOQM9gMgjQDiN3fBILU/TKa3R4iSLNjOcmWEKRJKMVZJmYLUlMRIUhNkV36dhGkpTPr4Rq2SbKDki12xehDH6QeQu7MLiNIcYsCQYrLO5QbghSiEzeNS2xxeYdy4xJbiM5iml0imQ/t04uBIseGwwKVBBCkSjSNJCBIjWCttVEEqRa2RlZCkBrBWmujCFIQm22V7LBki3fb3iPZAclm+dydYPYkRiWAIEXFvThO1JUVWfpT3R9Tkdal2fRB6k5pcImtO2XBJbbulEWDe5Lvg3SeZJc1mBubbpcAghSXPy1IcXmHcqMFKUQnbhotSHF5h3KjBSlER3lB2p9cZpt2gLxgliS2RgBBioseQYrLO5QbghSiEzcNQYrLO5QbghSiUxAkOmkHYfU+EUGKW4QIUlzeodwQpBCduGkIUlzeodwQpBAdBClIZ94SXZDeUHi+VfZZV1167yMSVw0U6SN4d2lfq/blTQuDN4b6IP1VD+J4VjIydNno6P7MN3+wb1X8XZp/w5hnsf1hD+J4afJYn7Lj0sULj/d5Rw9i8DrhI9j7896K02nJyPZdqjdV++LPcvQ6VTbdlDz/sGrdLs33kfinefxNWfxzNC9/iY0WpDkq2pJQ/OGf/jiUPrzeVfHYlu+X9O6exOCcf7ekHHyWP3qiD+Xg++iPLfHO2sXpUQsP+n1vj+L4uWIAkvy5k5f3KIZXlcTgs/wxLH2pT/7Qbx9lvDidkEheX+J4XjGA5POf9qgs/Fmi2yriYLZse9LtyB9EzW3+1AgIQAACEIAABCAg2TLJrpLstQgS9QECEIAABCAAAQgsErB1kt0t2VddkA4lrUg0uVE9IAABCEAAAhAYMIF8H6RXS/bmAdMgdAhAAAIQgAAEIOCNRicc63ok+8aRh7J5sxITBCAAAQhAAAIQGCqBvCBxF9tQ6wFxQwACEIAABCCQIYAgZWDwFgIQgAAEIAABCDgBBIl6AAEIQAACEIAABAoEEKQCED5CAAIQgAAEIAABW33kFn/7F8ZBojZAAAIQgAAEIACBRQK2XLLrJHsjgkSVgAAEIAABCEAAAosEbEdym/9hF6SbJbtVslXQgQAEIAABCEAAAsMlkO+D9FbJPiTZiuECIXIIQAACEIAABCCQFyTGQaJGQAACEIAABCAAAW7zpw5AAAIQgAAEIACBIgFakIpE+AwBCEAAAhCAwOAJIEiDrwIAgAAEIAABCECgSMA2SXbgyDNqZfRBKvLhMwQgAAEIQAACAyVgl0h2DuMgDbT4CRsCEIAABCAAgSIB25qMg7TPBeluyfZLtrG4GJ8hAAEIQAACEIDAcAjk+yCdJ9llwwmeSCEAAQhAAAIQgEAZgbwgeeuR90M6rmxR5kEAAhCAAAQgAIFhEMgLEp20h1HqRAkBCEAAAhCAQJAAghTEQyIEIAABCEAAAkMkgCANsdSJGQIQgAAEIACBIAHbnnQ7OsRt/kFQJEIAAhCAAAQgMCwCdqVkFyFIwyp1ooUABCAAAQhAoJKArZPsHsluc0E6mDQnbatcngQIQAACEIAABCAw9wTyfZBeJdmb5z5mAoQABCAAAQhAAAJBAnlBul2yXZKtD65DIgQgAAEIQAACEJhrAnlBYhykuS5sgoMABCAAAQhAYDICCNJknFgKAhCAAAQgAIEBEUCQBlTYhAoBCEAAAhCAwGQEEKTJOLEUBCAAAQhAAAIDImCrJfuKZJ9kHKQBFTuhQgACEIAABCAQImDLJXu/ZG9CkEKcSIMABCAAAQhAYEAEbEcyNqS5IN0k2RckWzUgAoQKAQhAAAIQgAAECgTyfZCuluzDkq0oLMVHCEAAAhCAAAQgMCACeUFiHKQBFT2hQgACEIAABCBQRQBBqiLDfAhAAAIQgAAEBksAQRps0RM4BCAAAQhAAAJVBBCkKjLMhwAEIAABCEBgsARsk2QHJPsut/kPthIQOAQgAAEIQAACowTsUsnORZBGyTAHAhCAAAQgAIFBErCtyThI+1yQ7pZsn2QbB8mCoCEAAQhAAAIQgMAigXwfpPMlewNkIAABCEAAAhCAwLAJ5AVpf9KcdNywoRA9BCAAAQhAAALDJpAXJAaKHHZtIHoIQAACEIAABBYJIEhUBAhAAAIQgAAEIFAggCAVgPARAhCAAAQgAAEI2Pak29EhbvOnNkAAAhCAAAQgAIGjBOxKyV6DIB0FMrdvHi7p9J68Hi1pRUlJbO/J/qec718Sg3h7axAAACAASURBVM/6yR7F8R8rYji5RzF4eWwticPrWFpWffj/wyUx+Kwf6lEcj5W0piSOzT2KwevKA0pi8Fmn9SiOn5K0rCIOZsvWHRlF277ugnQwaU7aBpn5I7Buna7bvFn77nc/7er6a/lyHZTkklSczpC0X9KtPXh9a+HE9aZiAMnnf5PkX7qux/ElPzBIOrEkjrMk7epBDM7YHxXwopIYNiTxeXl0vSxuk3RnSQw+62JJd/UgBme8V9KvlcThYuHf+66Xg+/fHZI+UBKDz7opSe9DHH7pqEq6K8Ib0ux8H6RXSlZ1QB8SlbmMdcsWXX/BBTKz7r927tTu5FdYsSxckD5dnNnRz38g6cqKffMT8mMq0ro0e20iECeV7JQLUl+OF69faJF8SUkMqSCVCWDJ4q3OemQiQWU74YL04rKEDs77qKSnlOyXC1KVAJYs3uqspy4cn26o2AMXpCdVpHVttv9wOLVrO9Wd/ckL0h2S7ZZsfXd2kD2ZFQEEaVYkJ94OgjQxqsYXRJAaRzxxBgjSxKgaXxBBCiLOCxLjIAVh9TsRQYpefghSdOSVGSJIlWiiJyBI0ZFXZoggVaLxBAQpiGeeEhGk6KWJIEVHXpkhglSJJnoCghQdeWWGCFIlGk9AkIJ45ikRQYpemghSdOSVGSJIlWiiJyBI0ZFXZoggVaLxBAQpiGeeEhGk6KWJIEVHXpkhglSJJnoCghQdeWWGCFIlGk+wVZJ9WbJ/9g/0QQrC6ncighS9/BCk6MgrM0SQKtFET0CQoiOvzBBBqkTjCbZcsg9I9hYEKQiq/4kIUvQyRJCiI6/MEEGqRBM9AUGKjrwyQwSpEo0n5C+x3SjZ5440KwXXIrGHBBCk6IWGIEVHXpkhglSJJnoCghQdeWWGCFIlGk/IC9LbJfuIZGWPeAhuJmLijb7Xki6LmGdZVj48+/dKemDy6vzYUQhSWTE2Og9BahTvkjaOIC0JV6MLI0iN4l3SxhGkIK68IPWhD1JbgrQ6GR7/Lxaeo3WdpO8kouay5i8f4bnTE4IUvXgQpOjIKzNEkCrRRE9AkKIjr8wQQapE4wkIUhBPJvF7CkKUilH6H0Ga4SNMeNRIpua1+5ZHjbTLP5s7jxrJ0mj3PY8aaZd/pNz7J0ibJB0nyZ+hFHNKBckfMHr1giy9UNIrMtKEICFIxfpIC1KRSHufaUFqj30xZ1qQikTa+0wLUpB9/wQpGE6DiX6JrfjAzl9HkJp58C0tSA3W5KVtmhakpfFqcmlakJqku7Rt04K0NF49Xdo2SXZAsnv8XN+HPkgPkeQHigd0gDiCNMNWI8tsC0HqQO0+sgsIUmeKYvG4d1fF7lws6cUVaV2bTQtSd0qEFqSxZWGXSXZeXwSprU7aZRgRpIzUZAVn2vcIUll1a2UegtQK9tJMaUEqxdLKTFqQWsEeO1M7Lmk42u+C9B3J9km2MfZuLCE/BGkJsLKLchdblkaU9/RBioJ5okzogzQRpigL0YIUBfNEmdCCFMSU74N0vuTNSZ2exgnSVZKunfK1ZkICtCDRghSqKghSiE7cNAQpLu9QbghSiE7cNAQpyDsvSN4ZyfshHR9cp93EcYLk1+jTW+/r/p900EcECUEKfRsQpBCduGkIUlzeodwQpBCduGkIUpB3XpD60El7nCD57fcvn/K1KsjsWCKChCAdqw2j7xCkUSZtzUGQ2iI/mi+CNMqkrTkIUpD8/AlSMNwZJyJICFKoSiFIITpx0xCkuLxDuSFIITpx0xCkIG8EKYhnTCKChCCFqgiCFKITNw1Biss7lBuCFKITNw1BCvK27Um3o0Pzcpv/4yU9ccrXpA/rRZAQpNDXC0EK0YmbhiDF5R3KDUEK0YmbhiCN5W1vkew18yJIdNKuKHBu868A09xsBKk5tkvdMoK0VGLNLY8gNcd2qVtGkILEbJ1k90r2DRekg0lz0rbgOu0mjuuk/SVJLknTvNZNGCItSLQghaoKghSiEzcNQYrLO5QbghSiEzcNQQryzvdBulCyNwaXbz9xnCDF3EMECUEK1TcEKUQnbhqCFJd3KDcEKUQnbhqCFOSdF6RvSnafZJOOAxTcdEOJCFJNsFxiqwmu/moIUn12s14TQZo10frbQ5Dqs5v1mghSkGhekOZhHKRguFMm/omkKzKvVNZ8QMoPZeb7Ms+dMq+Zr44gzRzpuA0iSOMIxUtHkOKxHpcTgjSOULx0BCnIGkEK4ikkXrOEUbo7d6kSQSqUZvMfEaTmGU+aA4I0Kanml0OQmmc8aQ4IUpBU/wTp+ZIukvT0YFzNJD4nydvzH/f6nWZ2of5WEaT67GquiSDVBNfAaghSA1BrbhJBqgmugdUQpCDU/glSMBwSqwkgSNVsGkpBkBoCW2OzCFINaA2tgiA1BLbGZhGkIDRbJdmtkt3cl3GQguGQWE0AQapm01AKgtQQ2BqbRZBqQGtoFQSpIbA1NosgBaHZcsk+KNlVCFIQVP8TEaToZYggRUdemSGCVIkmegKCFB15ZYYIUiUaT8hfYvuwZJ+RbGVwHRJ7SQBBil5sCFJ05JUZIkiVaKInIEjRkVdmiCBVovGEvCC9S7IbJZv0WWTBTZPYLQIIUvTyQJCiI6/MEEGqRBM9AUGKjrwyQwSpEo0n5AWpD+MgBcMhsZoAglTNpqEUBKkhsDU2iyDVgNbQKghSQ2BrbBZBCkJDkIJ45ikRQYpemghSdOSVGSJIlWiiJyBI0ZFXZoggVaLxBAQpiGeeEhGk6KWJIEVHXpkhglSJJnoCghQdeWWGCFIlGk9AkIJ45ikRQYpemghSdOSVGSJIlWiiJyBI0ZFXZoggVaLxBNso2X7J7vEP9EEKwup34vr1umbNGh3csEH7uv5atkyHJT2qhPjPSjoo6a4evO5Lns9XEoa+KMkPTl2P4zt+YJB0QkkQ/rzBfT2IwRnvXYjjhSUxrJUW69rdPYjDD9LfLInBZ/21pD09iMHL4oCkJ5bE8YikLLr+nfD92yXp+pIYfNZHkvQ+xOHH2R+qiIPZiwTsMsnOQ5DmvzqcKOmRPXn5wXJ5SZH4HZae1pc4ysTCwzqlRzFUHUA39CgGry+bSuqTz3pIj+L4/ooYtvUoBi+LVSVxLJP08B7FcVJJDD7re3oUw6kVMTB7kYAdlzQc7XdBukuyvZL5gY8JAhCAAAQgAAEIDJRAvg/S+ZK9YaAkCBsCEIAABCAAAQgkBPKCdCBpTjoePhCAAAQgAAEIQGC4BPKCRCft4dYEIocABCAAAQhA4CgBBOkoCt5AAAIQgAAEIACBIwQQJGoCBCAAAQhAAAIQKBCwbUm3Ix9ahnGQCnT4CAEIQAACEIDAYAnYmyV7NYI02ApA4BCAAAQgAAEI5AnYesl2SXa7C9LBpBXJBx1jggAEIAABCEAAAgMlkO+DdKFkVwyUBGFDAAIQgAAEIACBhEBekO6U7D5G0qZ2QAACEIAABCAwbAJ5QWIcpGHXBqKHAAQgAAEIQGCRAIJERYAABCAAAQhAAAIFAghSAQgfIQABCEAAAhCAAIJEHYAABCAAAQhAAAIFArZKsi9IdhPjIBXQ8BECEIAABCAAgaESsBWSfViyqxGkodYB4oYABCAAAQhAoEAgf4ntA5L9i2QrC0vxEQIQgAAEIAABCAyIQF6Q3iPZzZI3KzFBAAIQgAAEIACBoRLICxLjIA21HhA3BCAAAQhAAAIZAghSBgZvIQABCEAAAhCAgBNAkKgHEIAABCAAAQhAoEAAQSoA4SMEIAABCEAAAhCwjZLtl+xubvOnNkAAAhCAAAQgAIGjBOwyyc5HkI4C4Q0EIAABCEAAAsMmYMdJ5jev7XdB+rZkeyXbMGwoRA8BCEAAAhCAwLAJ5PsgvUKyy4cNhOghAAEIQAACEIBAXpAOJM1JxwMGAhCAAAQgAAEIDJdAXpAYKHK4NYHIIQABCEAAAhA4SgBBOoqCNxCAAAQgAAEIQOAIAQSJmgABCEAAAhCAAAQKBGxb0u3oILf5F9DwEQIQgAAEIACBIROwNy08cuRVCNKQ6wCxQwACEIAABCCQIWDrJdst2R0uSNzFlkHDWwhAAAIQgAAEhkog3wfpQsneOFQUxA0BCEAAAhCAAASOEMgL0rck28NI2lQOCEAAAhCAAASGTSAvSIyDNOzaQPQQgAAEIAABCCwSQJCoCBCAAAQgAAEIQKBAAEEqAOEjBCAAAQhAAAIQQJCoAxCAAAQgAAEIQKBAwFZJ9jnJbmQcpAIaPkIAAhCAAAQgMFQCtkKyj0j2dgRpqHWAuCEAAQhAAAIQKBDIX2L7B8k+KdnKwlJ8hAAEIAABCEAAAgMikBek6yT7ZwRpQOVPqBCAAAQgAAEIlBDICxLjIJUgYhYEIAABCEAAAkMjgCANrcSJFwIQgAAEIACBsQQQpLGIWAACEIAABCAAgaERQJCGVuLECwEIQAACEIDAWAK2UbJ9kn2H2/zHwmIBCEAAAhCAAASGQ8Auk+w8BGk4JU6kEIAABCAAAQgECdhxkvnNa/tdkL4l2R7JNgTXIRECEIAABCAAAQjMNYF8H6QLJHvjXMc74OBWr9bLN2/WR/rw2rBB10s6paS4fnz9en2oDzH4Pq5apWeXxOCzLpF0bU9eb5W0riSOX+vJ/qecf7EkhrU9i+G1JTH4rP/ZozjeI+nUkjh+oEcxeJ36k5IYfNaFPYrjnQv7u70iDmYrL0gHkuak4yEzfwS2bNH1T36y7KKLuv/avFn7JJ1eUgpnbNumvX2I4QlPkG3erGtKYvBZX5b0V5J+p+OvZ3nTsqSTSuI4S9LHOr7/Kd8bJL2kJAZvLff4/rAHcbxU0l0lMfisiyW9owcxeHl8SdJTSuI4TdK9PYnhbxaOT16nyqabFr4vLrJp3evy/z0VsloW1wDn5QWJgSLnuAq4IF1wgcys+6+dO7W7SpBOPlm7+hDD2WePFaTH9qC6eQtLSJDe1IMYfBdfP0aQTuxBHI8cI0gv7kEMvosfDQjSnT2J4aljBOlJPYnjuwhSqKQQpBCduUpDkOKKIYLUqa8PgtSd4kCQulMWCFKwLBCkIJ55SkSQEKQa9ZkWpBrQGlqFFqSGwNbYLC1INaD1bxXblnQ7Ougt6Vxi618JTrzHCBKCNHFlObYggnSMRdvvEKS2S+BY/gjSMRZz/s5vXDPveI8gzXNJI0gIUo36jSDVgNbQKghSQ2BrbBZBqgGtf6vYesl2S/ZNFyTuYutfCU68xwgSgjRxZTm2IIJ0jEXb7xCktkvgWP4I0jEWc/wu3weJcZDmuKgRJASpRvVGkGpAa2gVBKkhsDU2iyDVgNa/VfKC9G3J9jKSdv+KcZI9RpAQpEnqSWEZBKkApMWPCFKL8AtZI0gFIPP5MS9Ifeik7RXzeZLOnM8CaS4qBAlBqlG7EKQa0BpaBUFqCGyNzSJINaD1b5X+CdKNycB1l7UA+4ckvUDSexcGOvu8tDja892SPiHpHEkPbmGfJs4SQUKQJq4sxxZEkI6xaPsdgtR2CRzLH0E6xmKO3yFIkxbuLYmY+ajCVS9/PMZzJt1g7OUQJASpRp1DkGpAa2gVBKkhsDU2iyDVgNa/VfonSM+XdJGkp0eG7c+scTHy5widJ+nXJf2MpN+U9NcLDy48kBGn34i8bxNlhyAhSBNVlPxCCFKeR5ufEKQ26efzRpDyPOb0k62U7DOSfdjP733og9RWQVwn6WclLavYgccll9xcom6XtLJiudZmI0gIUo3KhyDVgNbQKghSQ2BrbBZBqgGtf6vYCslulOxdCNL0pedPcE4vv/349Jub7RYQJASpRo1CkGpAa2gVBKkhsDU2iyDVgNa/VfKX2K6T7OOSNyt1drpA0rWS/riDe/jfMoL0y13bPwQJQapRJxGkGtAaWgVBaghsjc0iSDWg9W+VvCB9QLJbOi5Ibd7FNq58n5sRpMeMWzh2OoKEINWocwhSDWgNrYIgNQS2xmYRpBrQ+rdKXpD60AdpnCA9XJIfSKZ5La9ZkB9IBGmvpI01t9HYaggSglSjciFINaA1tAqC1BDYGptFkGpA698q8ydId2VacdL+QEv9v75GQfoltTSfV9ZYv/FVECQEqUYlQ5BqQGtoFQSpIbA1Nosg1YDWv1UQpFRqsv+XKkgPlPStRJBuk7StixUBQUKQatRLBKkGtIZWQZAaAltjswhSDWj9W2X+BCl2GZwg6dOZS2s/HXsHJs0PQUKQJq0rmeUQpAyMlt8iSC0XQCZ7BCkDY37f2kbJ9km2eGVqHvogxSyrrZI+lsjRQUlPjJn5UvNCkBCkpdYZSQhSDWgNrYIgNQS2xmYRpBrQ+rmKvUGy8/08jyBNXoJbJP1TIkeHkpG1J1+7hSURJASpRrVDkGpAa2gVBKkhsDU2iyDVgNa/Vez4xIsWn5Rxp2R7JNvQ4UDG3cX2D5JunvLlJ4XQ5HeoLQ49vvDw2sOSfiu0cFfSECQEqUZdRJBqQGtoFQSpIbA1Nosg1YDWv1XyfZAulOyKjgcxTpCavovNO3C/P2k5cjl6Zsd5Hd09BAlBOloZJn+DIE3OquklEaSmCU++fQRpclY9XjIvSAeT5qRO3oWVUB4nSM+R9LwpX6sqStTlyFuo/I43l6NnVyzXydkIEoJUo2IiSDWgNbQKgtQQ2BqbRZBqQOvfKnlBog9SdQmukfTORI5ckJ5fvWg3UxAkBKlGzUSQakBraBUEqSGwNTaLINWA1r9VEKRJysxblN6dkaOLJPnYR6GXd+Lu1IQgIUg1KiSCVANaQ6sgSA2BrbFZBKkGtP6tgiBNUmYnZeQoO6Bk6P0fTLLhmMsgSAhSjfqGINWA1tAqCFJDYGtsFkGqAa1/q9i2pNuRD+PDbf4VBYggWVy52LlTuyWdXlIeZ5x8snZZ5P2pk9/ZZ8s2b9Y1JTH4rC9LemxFWpdmI0jdKQ0EqTtlgSB1pywa3hO/cc0u7Isg3T+5tOUjWMeaVoy5nFZ2qY1LbFNIDIIUq2qPzQdBGoso2gIIUjTUYzNCkMYimocFbL1k90l2pwvSgaQV6fh5CI0Y8gS4xBa3FYwWpHz9a/nT6yW9pGQffMw3v1R+Ykla12YhSN0pEQSpO2XR4J7k+yC9QrLLG8yNTbdIAEFCkGpUP1qQakBraBUEqSGwNTaLINWA1r9V8oL0bcn2dnwk7f4x7sgeI0gIUo2qiCDVgNbQKghSQ2BrbBZBqgGtf6vkBakP4yD1j3FH9hhBQpBqVEUEqQa0hlZBkBoCW2OzCFINaP1bBUHqX5nV3GMECUGqUXUQpBrQGloFQWoIbI3NIkg1oPVvFQSpf2VWc48RJASpRtVBkGpAa2gVBKkhsDU2iyDVgNa/VRCk/pVZzT1GkBCkGlUHQaoBraFVEKSGwNbYLIJUA1r/VrGVkn1Ksg/2ZRyk/jHuyB4jSAhSjaqIINWA1tAqCFJDYGtsFkGqAa1/q9gKyW6W7D0IUv9Kb0l77IL05CfLLrqo+6/Nm7WvaiTtbdu0tw8xPOEJY0fS/itJv9Px17OScYJ8NPnidJakj3V8/1O+N4wZB+kPexDHSyXdVSyE5PPFkt7Rgxi8PL4k6SklcZwm6d6exPA3C8cnr1Nl002SXtuTOPZIOrUsCOY5gfwltmsk+yfJrYlp3gisXq2zjjtON/bhtXGjvEnzASVl8B88rQ8x+D6uWaPnlsTgs86XdG1PXldLWlcShz8Kpi8x+H6eWRKDH+uu7FEcryuJwWf9do9ieK+kh5fEsTN5KHhf6tQLSmLwWX/Wo7J4l6QdFXEwuyBIH5LsXyW/7sYEAQhAAAIQgAAEhkog34LEOEhDrQfEDQEIQAACEIBAhgCClIHBWwhAAAIQgAAEIOAEECTqAQQgAAEIQAACECgQQJAKQPgIAQhAAAIQgAAEbEPyfNpvc5s/tQECEIAABCAAAQgcJWCXS/YKBOkoEN5AAAIQgAAEIDBsAna8ZH7z2gEXpDslu0+y9cOGQvQQgAAEIAABCAybQL4P0oWSXTFsIEQPAQhAAAIQgAAE8oJ0MGlO2gYYCEAAAhCAAAQgMFwCeUFioMjh1gQihwAEIAABCEDgKAEE6SgK3kAAAhCAAAQgAIEjBBAkagIEIAABCEAAAhAoELBtSbejg9zmX0DDRwhAAAIQgAAEhkzAb1yzCxGkIdcBYocABCAAAQhAIENgcSTtPUeGQFocDGlxUKTjM0vwFgIQgAAEIAABCAyMQL4P0vmSvWFgBAgXAhCAAAQgAAEIFAjkBekuyfZJtrGwFB8hAAEIQAACEIDAgAjkBYlxkAZU9IQKAQhAAAIQgEAVAQSpigzzIQABCEAAAhAYLAEEabBFT+AQgAAEIAABCFQRQJCqyDAfAhCAAAQgAIHBErCVkt0i2fsZB2mwlYDAIQABCEAAAhDIE1gUpH+W7DoEKU+GTxCAAAQgAAEIDJZA/hLbOyX7qGQrBsuDwCEAAQhAAAIQgIDygvQRyT4jebMSEwQgAAEIQAACEBgqgbwgMQ7SUOsBcUMAAhCAAAQgkCGAIGVg8BYCEIAABCAAAQg4AQSJegABCEAAAhCAAAQKBBCkAhA+QgACEIAABCAAAdsg2R7JvsVt/tQGCEAAAhCAAAQgcJSAXS7ZKxCko0B4AwEIQAACEIDAsAnY8ZL5zWsHXJC+KdluydYPGwrRQwACEIAABCAwbAL5PkgXSvbGYQMheghAAAIQgAAEIJAXpINJc9I2wEAAAhCAAAQgAIHhEsgLEgNFDrcmEDkEIAABCEAAAkcJIEhHUfAGAhCAAAQgAAEIHCGAIFETIAABCEAAAhCAQIFA/i42LrEV8PARAhCAAAQgAIGhEvAb1+wCxkEaavkTNwQgAAEIQAACBQL5kbT3J3exHVdYio8QgAAEIAABCEBgQATyfZDOk+yyAUVPqBCAAAQgAAEIQKCEQF6QviPZPsk2lizJLAhAAAIQgAAEIDAQAnlBopP2QIqdMCEAAQhAAAIQCBFAkEJ0SIMABCAAAQhAYJAEEKRBFjtBQwACEIAABCAQIoAgheiQBgEIQAACEIDAIAnYSsn+WbLrGAdpkBWAoCEAAQhAAAIQGCWwKEi3SPZ+BGmUDnMgAAEIQAACEBgkgfwltrdL9hHJVgySBUFDAAIQgAAEIACBRQJ5QfpHyT4v2SroQAACEIAABCAAgeESyAsS4yDNd014kKRH9uT1cEnLS4pjS0/2P+W8vSQGn/WwHsXxgxUx3K9HMXh5lA2A63UsLas+/H9ARVmc0qM4HiFpZUkcG3oUg9eVnSUx+KyH9CiOH6mIgdmLBBCkwVSEdet03erVOrBhg/Z1/bVsmQ5LelRJ4ZyxbJkOdX3/ff9Wr9bBdet0VUkMWrNGX1u7Vvu7Hsf69drnnRMl7SiJ4yxpMf0uSV1/7V2I44UlMfhJ2eO7uwcx3CPpjpIYfNbFkvb0IAavJwckPbEkjtOkxe991+uS79+uheOTd9wtm25K0vsQhx9nq34AlcU2sHkI0mAKfMsWXX/BBTKz7r927tRuSaeXFM4ZJ5+sXX2I4eyzZZs365qSGLRhg+543/u6Xw579izKgwvESSVxuCC9qWR+F2e9XtJLSnYsFaQTS9K6NstbLfykWza5IL24LKGD8z4q6Skl++WCdGfJ/C7OeurC8emGih1zQXpSRVrXZn9X0qld26nu7A+C1J2yaHhPEKS4QoIgNVyhl7Z5BGlpvJpcGkFqku7Sto0gBXnZBsn2SObibvRBCsLqdyKChCAtteWNFqROfedpQepOcdCC1J2yaHhP7ArJLkSQGsbc9uYRJAQJQRr5FnKJbQRJ4zNoQWoc8cQZ0IIURGXbkoajgy5Id0i2W7L1wXVI7CUBBAlBQpBGvroI0giSxmcgSI0jnjgDBCmIKt8H6ZWS9aXTZTAsEkcJIEgIEoI08r1AkEaQND4DQWoc8cQZIEhBVHlBOpg0J20LrkNiLwkgSAgSgjTy1UWQRpA0PgNBahzxxBkgSEFUeUGik3YQVr8TESQECUEa+Q4jSCNIGp+BIDWOeOIMEKQgKgQpiGeeEhEkBAlBGvlGI0gjSBqfgSA1jnjiDBCkIKr+CdK1yWBpfx2Mq7nE4yQ9VtKvL4y++z8k/X7y3oeX7/SEICFICNLIVxRBGkHS+AwEqXHEE2eAIAVR2fFJtyMf/b0X4yDd6Dsq6bJgXLNP/AVJn06Gwvf8y14fl/To2Wc9my0iSAgSgjTyXUKQRpA0PgNBahzxxBkgSGNR2eWSvQJBCoN6dkaK3CZvk/SxhdajL0jy5zylwuTjJZQNox/eeoRUBAlBQpBGvmgI0giSxmcgSI0jnjgDBCmIanEk7b2SfdvP8fuTViS/jNTV6f6SHijphMg7+IsL+b1I0k+WPIl608KDIp+XPLjTRckrXdnDPSPvcj47BAlBQpDy3wlJCNIIksZnIEiNI544AwQpiCrfB+l8yd4QXJ7EEIE/zrQk/VZowTbSECQECUEa+eYhSCNIGp+BIDWOeOIMEKQgqrwg3Z20Im0MrtNuoneG9mcSPaDd3SjN/WEZQfLWpk5NCBKChCCNfCURpBEkjc9AkBpHPHEGCFIQVV6Q+jAOUludtIMYk0TvoJ32RXrGJCvEXAZBQpAQpJFvHII0gqTxGQhS44gnzgBBCqJCkIJ4lpj4qkSQvNP2KUtct/HFESQECUEa+ZohSCNIGp+BIDWOeOIMEKQgqvkTpIslXTHla02Q2bHE5ZJOkvSYJD9vPTos6bnHFunOOwQJQUKQRr6PCNIIksZnIEiNI544AwQpiGr+BOmuzGWu9HLXUv+vDzKTXluSh4vR+yX5eEmdnBAkBAlBGvlqIkgjSBqfgSA1jnjiDBCkICpbIdnNkr3Hz/nz0AfphZJePuVrVZBZuSC5hN0s6fckrRizfivJCBKChCCNfPUQpBEkjc9AkBpHPHEGCFIQla2U7FOSfXBeXLm8WgAAIABJREFUBCkY7owST07upPO76X5W0jMXWo5uyrQqva2LkoQgIUgI0sgRAEEaQdL4DASpccQTZ4AgBVHlL7G9TbIbJG9W6uzU1bvYvD/SKzOS9KyuEUSQECQEaeRbiSCNIGl8BoLUOOKJM0CQgqjygvRPkn1RsnGXmIKbbDhxnCA9StLpU77qCqJ37v5mIkkfbpjDkjePICFICNLI1wZBGkHS+AwEqXHEE2eAIAVR5QVpHvogxeikHUL6zkSQ/NktnZoQJAQJQRr5SiJII0gan4EgNY544gwQpCAqBKnsDrdxd7GFkF6bCJKLWqcmBAlBQpBGvpII0giSxmcgSI0jnjgDBCmIav4EKRhuw4lbJd2bCJIfBDo1IUgIEoI08pVEkEaQND4DQWoc8cQZIEhBVAhSEE+S6H2Sxo1v5K1Ob03kyFulOjdYJIKEICFII193BGkESeMzEKTGEU+cAYIURGXrJbtPsjv93D4PfZCC4dZM9E7rLj1fkHSOpKdJ+pnkFv/flPSXkr6WkaOPS5p0NO6au7T01RAkBAlBGvneIEgjSBqfgSA1jnjiDBCksajsCskuRJCqQaWCVNZfqTjv3ZK2V2+qvRQECUFCkEa+fwjSCJLGZyBIjSOeOAMEKYjKtiUNRwddkL4h2S7Jm5U6Oz1f0kWSnh55Dx8m6fcl+V1qn1l47xXL5ehuSZ9YeCabP37k0ZH3aUnZIUgIEoI08pVBkEaQND4DQWoc8cQZIEhBVPk+SK+S7M3B5UnsLQEECUFCkEa+vgjSCJLGZyBIjSOeOAMEKYgqL0gHk+akbcF1SOwlAQQJQUKQRr66CNIIksZnIEiNI544AwQpiCovSH3opB0Mh8RqAggSgoQgjXw/EKQRJI3PQJAaRzxxBghSEBWCFMQzT4kIEoKEII18oxGkESSNz0CQGkc8cQYIUhAVghTEM0+JCBKChCCNfKMRpBEkjc9AkBpHPHEGCFIQlR2fdDs60Jfb/IPhkFhNAEFCkBCkke8HgjSCpPEZCFLjiCfOAEEai8reINn5CNJYUP1eAEFCkBCkke8wgjSCpPEZCFLjiCfOAEEKorINku2VzJ+tavuT5qTjguuQ2EsCCBKChCCNfHURpBEkjc9AkBpHPHEGCFIQVb4P0nmSXRZcnsTeEkCQECQEaeTriyCNIGl8BoLUOOKJM0CQgqjygnRP0oq0MbgOib0ksGGD3rt5s/bt3KndXX8tXy4f2v0xJaB/bsUKHer6/vv+bdqkfevX6+qSGLRunW7btk17ux7H/e6n3cmI8SeWxPEHknZJurUHLz8RvLgkhnWSDkv6tx7EcJskf2hm2fQ6SX4ZoA9lsXfhaQRPKgnikdLi974PMdyxcHz6QEkMPssF0NP7EMchST9cEQezlRckxkGa7ypxiqTTe/JyOVpZUhz+XLzH9iQGZ/19JTH4rB/qUQw/URHDlh7F4GVxfEUcp/UojlMrYjipRzE8TtLakjiWJ49r6ssx6kElMfisB/eoLB618MNhWUUczEaQqAMQgAAEIAABCECgSIAWpCIRPkMAAhCAAAQgMHgCCNLgqwAAIAABCEAAAhAoErAVkt0o2bsYB6nIhs8QgAAEIAABCAyUgK2U7DOSfRhBGmgVIGwIQAACEIAABIoE8pfYrpLsQ5L53QRMEIAABCAAAQhAYKAE8oL0Mcm+JJnfSs0EAQhAAAIQgAAEBkogL0iMgzTQakDYEIAABCAAAQhkCSBIWRq8hwAEIAABCEAAAt4v+4Tk+bRGJ20qBAQgAAEIQAACEFgkgCBRESAAAQhAAAIQgECBgK2XbLdk36QFqYCGjxCAAAQgAAEIDJmAvVGyCxGkIdcBYocABCAAAQhAIEPAtiV9kA66IH1dsnslW5dZgrcQgAAEIAABCEBgYATyfZBeI9lbBkaAcCEAAQhAAAIQgECBQF6QDiXNSdsLS/ERAhCAAAQgAAEIDIhAXpAYKHJARU+oEIAABCAAAQhUEUCQqsgwHwIQgAAEIACBwRJAkAZb9AQOAQhAAAIQgEAVATs+6XZ0gNv8qxgxHwIQgAAEIACBARKwyyQ7H0EaYNETMgQgAAEIQAACZQRso2T7JPuOC9L+pDnpuLJFmQcBCEAAAhCAAASGQSDfB+k8yZuTmCAAAQhAAAIQgMCQCeQF6R7JDki2achIiB0CEIAABCAAgaETyAsS4yANvT4QPwQgAAEIQAAC3u3ohKTbkdFJmwoBAQhAAAIQgAAEFgkgSFQECEAAAhCAAAQgUCCAIBWA8BECEIAABCAAAQjYCsk+ItnbucRGbYAABCAAAQhAAAKLBGyVZJ+T7EYEiSoBAQhAAAIQgAAEFgnkL7G9RbIPSLYcOhCAAAQgAAEIQGC4BPKC9M+SfVnyZiUmCEAAAhCAAAQgMFQCeUFiHKSh1gPihgAEIAABCEAgQwBBysDgLQQgAAEIQAACEHACCBL1AAIQgAAEIAABCBQIIEgFIHyEAAQgAAEIQAACtl6y3ZLdwW3+1AYIQAACEIAABCBwlIC9aeFS26sQpKNAeAMBCEAAAhCAwLAJ2LbkYbUHXZC+Jtl3JVs3bChEDwEIQAACEIDAsAnk+yBdJNmVwwZC9BCAAAQgAAEIQCAvSIeS5qTtgIEABCAAAQhAAALDJZAXJAaKHG5NIHIIQAACEIAABI4SQJCOouANBCAAAQhAAAIQOEIAQaImQAACEIAABCAAgQIBOy7pdrSf2/wLaPgIAQhAAAIQgMCQCdhlkp2PIA25DhA7BCAAAQhAAAIZArZRsn2S3e2C5G+8o/bWzBK8hQAEIAABCEAAAgMjkO+DdK5klw6MAOFCAAIQgAAEIACBAoG8IPko2gck21RYio8QgAAEIAABCEBgQATygsQ4SAMqekKFAAQgAAEIQKCKAIJURYb5EIAABCAAAQgMlgCCNJiiX7lSf7J5s97Rh9f69bpK0veWFM4j1q/X2/oQg+/jqlV6ekkMWrNGF/UlhnXrdLmktSVxnLlpk97elzgk/WxJDGskXdGj11+VxOCzntmjGJz3D5bE8aCexfDckhh81p/3KI7LJB1fEQezhSANphJs2aLrH/942ctf3v3Xpk3ygblOLymcM7Zu1b4+xHDGGbLNm3VNSQzasEF3POMZ3S+Hl75U5re3SjqpJI6zHvpQ7e9DWTziETok6SUlMWxI4vO053X89QpJd5XE4LMulnRdx/c/5fsVSU8pieM0Sbt6EoP/aLihJAafdZMkv9kpjbfL//dKOrUiDmbLVkj2YcmuZhykOa8OLkgXXCAz6/5r507trhKkk0/Wrj7EcPbZYUF63/u6Xw579oQF6cwzdV8fyuJpT1sU7pAgndiDr/8jxwjSi3sQg+/iRwOCdGdPYnjqGEF6Uk/i+C6CFCopWyXZFyRz6V0cA8k7au8IrUJaPwkgSHGFBEGKyzskaghSp45ZCFJ3igNBCpZF/hLbmyR7v2TLg+uQ2EsCCFLcEzaCFJc3giRakOIdmWlBise6xZzygvRJyb4i2eoW94isGyKAIMU9YSNIcXkjSAhSQ4fOss0iSGVU5m5eXpAYB2nuCvhYQAhS3BM2ghSXN4KEIB072jX+DkFqHHEXMkCQulAKUfYBQYp7wkaQ4vJGkBCkKAfSI5kgSBFht5cVgtQe+8g5I0hxT9gIUlzeCBKCFPGQiiBFhN1eVghSe+wj54wgxT1hI0hxeSNICFLEQyqCFBF2e1nZesl2SXZ79jb/E9rbobE5e8X0gbfOHLskC+QIIEhxT9gIUlzeCBKClDvgNfsBQWqWb4e2bm+W7NV9EaQbfUcl+RDpXZn+h6SLktcLurJTxf1AkOKesBGkuLwRJASpeMxr8DOC1CDc7mzatiXjQx5077hNsnskW9edHRzZk64J0mMlHU6kzcXtlpE97sgMBCnuCRtBissbQUKQIh5qEaSIsNvLKt8H6SLJrpRsWXs7NDbnlyUPAnzO2CWbX2CjpC8lcrQv+Y8gzeBRJjxqpBtywaNGmj+ILCEHHjWyBFgNL4ogNQy4G5vPC9KhpDlpezd2rvN7cUEiRf506k8jSLM7qSNIs2MZalkZl4YgdeoYhCB1pzgQpO6URYN7khckBoqcHPV/khafEH63pPsjSLM9oSNIs+U5ToSq0hGkyQ8IEZZEkCJAnjALBGlCUP1erH+C1IVLbN5H63NJi9FvJxWAFqQZXFpLT9QIEoKU1oVZ/OdhtZ06TfGw2u4UBw+rDZZF/wSpC520z07k6HpJaX8tBAlBsuzJnE7a3ZA8LxMEKXgWiJ2IIMUmXp0fglTNxk/zxyXdjvb7hz5cYhsnSKdIeuCUr1R6ytD9uCS/5e8+SQ/KLIAgIUgI0gzrQFY2p32PIGWOVO2/RZDaL4N0DxCklETlf7tUsvPmRZDuSlp3/Jb7uq/1FazWSPpUsl0frDI7IUgzPDlyia0brS/0Qcp+xVt/Tx+k1ovg6A7QB+koinl+Yxsl2y+Z9zW2fUkr0tYOhzyuBalJQXppIkeflLSqwAhBQpBoQZphHZi21Si7Pi1IhaNVux9pQWqXfzZ3WpCyNEbe5/sgnSPZJSPLdGvGOEFyuTtuylfZJbYfleTXIf3ymv+SK04I0gxPjrQg0YKUFZxp3yNIxcNVq58RpFbx5zJHkHI4ih/ygnSvZAck21RcrEOfxwlSE7u6UtLNSevR/6rIAEFCkGhBmmEdmFaKsusjSBVHrXZmI0jtcC/LFUEqo3J0Xl6Q5qGT9tHQZvjmTxM5ulVSVf8kBGmGJ0dakGhBygrOtO8RpBkeDaffFII0PcNZbQFBCpKcP0G6StK1U768M3Z2+mBGkKq2vStZ5t5M3n+U3Ujb73kWW1zp4Db/uLxDEoUgtX30yeWPIOVwtPoBQQrinz9BaqKTdipIS70rrlP9uRCkuCdsBCkubwSJh9UGz3WzTeQuttny7OjW5k+QXijp5VO+ineo/d4E2/tW0oL0zcyyT+5SqSNIcU/YCFJc3ggSghTxeIsgRYTdXla2QrIPSfZWP7/TB6l+SdAHiT5IdNKeYR0ICc9S07jEVv/A1sCaXGJrAGrNTXKJLQjOVkl2q2SLN2kdTiRpR3CddhPbuIttkogRpBmeHOmk3Y3WFwaKnOSrH20ZBoqMhnpsRrQgjUU0DwvkL7G9UbLrJFve4dAQpJqFwyW2uNLBJba4vEOtSrQg1TxoNLMaLUjNcK2zVVqQgtTygvQvkn1VstXBddpNRJBq8keQ4p6wEaS4vBEk+iDVPDTWWY0WpDrUerdOXpD60Afp/smDaE/oGOvvTfbrezq2X0d3B0GKe8JGkOLyRpAQpKMHu+bfIEjNM+5ADv0TpA5A6+cuIEhxT9gIUlzeCBKCFPHIjCBFhN1eVghSe+wj54wgxT1hI0hxeSNICFLEQyqCFBF2e1khSO2xj5wzghT3hI0gxeWNICFIEQ+pCFJE2O1lZesk82fUfqMv4yC1x6rnOSNIcU/YCFJc3ggSghTxEI0gRYTdblb2FslegyC1WwqN544gxT1hI0hxeSNICFLjB9FjGSBIx1jM8TvbnowNecgFyW/xv1vyZiWmeSOAIMU9YSNIcXkjSAhSxGM2ghQRdntZ5fsgvfbIM0dsWXs7RM5NEUCQ4p6wEaS4vBEkBKmpY2fJdhGkEijzNysvSIeS5qTt8xcoESFIcU/YCFJc3ggSghTxKI8gRYTdXlZ5QerDQJHtsep5zi5Iv/Vbsiuu6P5r61btlXR6CfIzduzQ3j7E8Bu/Idu8WdeUxKANG3THC17Q/XK49FKZX3uXdFJJHGc98pHa14eyeNSjdFDSS0pi2JDE93RJT+z463mS7iqJwWddLOlNHd//lO/nJT2lJI7TJPmjL9Lluvz/goXj0w0lMfismySd25M47pN0akUczBaCNJhKsHatXrR5sz7bh9eGDfqkpAeVFM5DN2zQLX2Iwfdx9Wr9UUkMLkiX9CWG9ev1j5JcJIrTz2/cqE/3IY5Nm/QZSU8oBrAgTSskXSfJn9bdh9cbS2LwWc/syf47YxeIHyuJw5+S4M9p60M5+D6+vCQGn3V2j2L4sKQTK+JgNoJEHYAABCAAAQhAAAJFAnZc0u1oP7f5F9nwGQIQgAAEIACBAROwyyQ7D0EacBUgdAhAAAIQgAAEsgRsk2QHJLvHBWmvZIcXbGlrdhHeQwACEIAABCAAgWERyHfSPleyS4YFgGghAAEIQAACEIBAkUBekPyhbAclb1ZiggAEIAABCEAAAkMlkBckxkEaaj0gbghAAAIQgAAEMgQQpAwM3kIAAhCAAAQgAAEngCBRDyAAAQhAAAIQgECBAIJUAMJHCEAAAhCAAAQgYMsl+4BkVzIOErUBAhCAAAQgAAEILBKwVZJ9WbKPuyD5GEjeUXsHdCAAAQhAAAIQgMBwCeQvsV0u2XWSNysxQQACEIAABCAAgaESyAvSpyS7TbLVQ8VB3BCAAAQgAAEIQIC72KgDEIAABCAAAQhAYIRAvgWJgSJHADEDAhCAAAQgAIHhEUCQhlfmRAwBCEAAAhCAwBgCCNIYQCRDAAIQgAAEIDA8ArZOsu9K9nXGQRpe6RMxBCAAAQhAAAKVBHyQSHsNglQJiAQIQAACEIAABIZFwLYnY0MeckH6imTfkWztsCAQLQQgAAEIQAACEMgSyPdBep1kb5NsWXYR3kMAAhCAAAQgAIFhEcgL0qGkOWn7sCAQLQQgAAEIQAACEMgSyAsS4yBl2fAeAhCAAAQgAIGBEkCQBlrwhA0BCEAAAhCAQDUBBKmaDSkQgAAEIAABCAyUgG1Nuh3t4zb/gVYBwoYABCAAAQhAoIyAXSrZuQhSGRvmQQACEIAABCAwQAK2SbIDR0bTlu2V7PCCLW0ZIAlChgAEIAABCEAAAgmBfB+kcyS7BDYQgAAEIAABCEBg2ATygrRLsoOSbR42FKKHAAQgAAEIQGDYBPKCxDhIw64NRA8BCEAAAhCAwCIBBImKAAEIQAACEIAABAoEEKQCED5CAAIQgAAEIAAB25GMg2Tc5k9tgAAEIAABCEAAAosEbLlk75fszQgSVQICEIAABCAAAQgsErDVkv2bZJ9wQfIxkLyj9g7oQAACEIAABCAAgeESyPdBukyyayVvVmKCAAQgAAEIQAACQyWQF6RPS/Z1yZuVmCAAAQhAAAIQgMBQCeQFiXGQhloPiBsCEIAABCAAgQwBBCkDg7cQgAAEIAABCEDACSBI1AMIQAACEIAABCBQIIAgFYDwEQIQgAAEIAABCNg6ye6R7DbGQaI2QAACEIAABCAAgaME7ErJLkKQjgLhDQQgAAEIQAACwyZg25OxIQ+5IPmIkXdJtnbYUIgeAhCAAAQgAIFhE8j3QXq9ZFdLtmzYUIgeAhCAAAQgAIFhE8gLUvqoke3DhkL0EIAABCAAAQgMm0BekBgocti1geghAAEIQAACEFgkgCBRESAAAQhAAAIQgECBAIJUAMJHCEAAAhCAAAQgYFuTu9j2cZv//NeG+0l6YE9eD5BUdrPA+p7sf8p5c0W1+r4exfE9FTFs7VEMXh5ld+d6HUvLqg//T6goix09i2N5SRxrehbDcSUx+Kz79yiOkytiYPZRAnaJZOcgSEeBzOebtWt1rRdyj14/VVISZ/Ro/23dOr2lJAatWaOv9SiOw5LKbtw4q0cxeL3//0rKYkOfYli1St8qicFnXdynOCT9akkcp/UshveVxOCzbupZHA+piIPZsk2SHZDsXi/TPZL5nWxbIDN/BLZs0fUXXCAz6/5r507tlnR6SSmccfLJ2tWHGM4+W7Z5s64piUEbNuiO972v++WwZ89RoT6pJI6zzjxT9/WhLJ72NO2X9JKSGBYF6fbbu18WN98sW71au0pi8FkuSC+uSOva7I9KekrJTrkg3Vkyv4uznrpwfLqhYsdckJ5Ukda12d+VdGrXdqo7+5Pvg3SuZJd2Z+fYk1kSQJDingQRpLi8Q6KGIM3ySDL1thCkqRHObAMIUhBlXpB2S3Zo4XpbVb+J4KZI7DYBBCnuCRtBissbQaIFKeIRmBakiLDbyyovSIyD1F5JNJ4zghT3hI0gxeWNICFIjR9Ej2WAIB1jMcfvEKQ5Ltx8aAhS3BM2ghSXN4KEIOWPeI1+QpAaxduVjSNIXSmJxvcDQYp7wkaQ4vJGkBCkxg+ixzJAkI6xmON3tiMZB8nv5DUusc1xUSNIcU/YCFJc3ggSghTx8I0gRYTdXla2XLLrJLsCQWqvFKLkjCDFPWEjSHF5I0gIUpQD6ZFMEKSIsNvLylZL9u+S3eKC5GMgeSuSj8rKNGcEEKS4J2wEKS5vBAlBinjIRpAiwm4vq3wfpEsle49kZY94aG8f8zn7aNB3LQzn/tf52Y1/WiHJh5af5LW68b2pkQGCFPeEjSDF5Y0gIUg1Dot1V0GQ6pLr1Xp5QfqsZN+QzJ+J09XpRm/qknRZ5B18aJLvJI/q6OQoqghS3BM2ghSXN4KEIEU8JyBIEWG3l1VekPrQSRtBqllbEKS4J2wEKS5vBAlBqnlorLMaglSHWu/W6Z8g+YP1HinJn/Yec8q2IP33ZB98P8peVU95jrm/I3khSHFP2AhSXN4IEoI0ctBrbgaC1BzbDm25f4LUFrysIP1CWzsxTb4IUtwTNoIUlzeChCBNc3xc4roI0hKB9XPx/gnS/SU9UNIJkYEjSBbvhLdzp3YvPC379JIyPuPkk7UrdDLsShqCFK++jCtzHlZb8k1qbxYPq22PfTFnHlZbJJL7bOsku1uyr/ZlHKQu9EGiBalhWUKQuiEXe/Ys3hDhNyaclDtuHPlw1pln6r5xctKFdASppPTam4Ugtce+mDOCVCSS++x39NtVkr0WQcqBGfmQbUHyu9QeJ+m/SvoVST8qyYcB6PTEJba40kELUlzeIRFDkDp1aEKQulMcCFKwLGx7MjbkIRekL0v2bcnWBtdpN3FcC9K5ki6a8lU2jlFWkMpu9b9zAcuLJHWWHYIU94SNIMXljSDRByniqYk+SBFht5dVvg/SxZK9o+MDRY4TJB9EskxgljJvfUmBFAXpbkl+XXJfIb+PSzq+ZP3WZyFIcU/YCFJc3ggSghTxIIsgRYTdXlZ5QerDo0bGCVJTLUg+rMDFkn5O0sZMgfmgmr8k6VMZUbomk96ZtwhS3BM2ghSXN4KEIEU82CJIEWG3l1VekBgosn5JuDR9LCNJj66/qWbWRJDinrARpLi8ESQEqZkjZ+lWEaRSLPM2E0GaZYn+dEaQzp/lhmexLQQp7gkbQYrLG0FCkGZxnJxwGwjShKD6vdj8CdLDK0a3Lhvxumre8pqF6uv5+D3e3+k9NbfR2GoIUtwTNoIUlzeChCA1dvAc3TCCNMpkDufYVsm869FeP6/PwyW2pjppT1r430gE6cOTrhBrOQQp7gkbQYrLG0FCkGIdSyUhSBFht5uVXSKZ921GkBK5KbuLbZIy8n5IB5JtvG2SFWIugyDFPWEjSHF5I0gIUsTjKYIUEXZ7WdkmyQ5Kdq+f1/ckzUlb2tuhsTmPu4tt7AYaXODpiRz5JbY/bTCfWptGkOKesBGkuLwRJASp1oGx3koIUj1uPVsr3wfpHMmbkzo9tSVIPzmGyn+U5GMjuRztl/T9Y5aPnowgxT1hI0hxeSNICFLEgyqCFBF2e1nlBWm3ZIck29zeDo3NuS1BOizpkwuPFHlJ8niRn5D045KeKOnvEilKB6N84dgoWlgAQYp7wkaQ4vJGkBCkiIdVBCki7PayygvSPHTSboqlC1IqQFX/DyYCtaypnZhmuwhS3BM2ghSXN4KEIE1zfFziugjSEoH1c/H+CdLLJF0h6TmRgXtL0SuSwSC/KSkVJn/UyC2SfNwjfxxJZycEKe4JG0GKyxtBQpAiHnwRpIiw28uqf4LUHqt8zj7m0Yb8rG5/QpDinrARpLi8ESQEKeIRGEGKCLu9rGxHcnf/YoNIHy6xtceq5zkjSHFP2AhSXN4IEoIU8RCNIEWE3V5Wtlyy6yS73LvYIEjtlUTjOSNIcU/YCFJc3ggSgtT4QfRYBgjSMRZz/M5WS3abZIsPo/chtV2SdsxxxIMNDUGKe8JGkOLyRpAQpIgHdwQpIuz2ssr3Qfp7ya6RrJN3YbUHaT5yRpDinrARpLi8ESQEKeKRGkGKCLu9rPKC9DnJbpdsTXs7RM5NEUCQ4p6wEaS4vBEkBKmpY2fJdhGkEijzNysvSPRBmr8SPhoRghT3hI0gxeWNICFIRw92zb9BkJpn3IEcEKQOFEKcXUCQ4p6wEaS4vBEkBCnOkXQxFwQpIuz2skKQ2mMfOWcEKe4JG0GKyxtBQpAiHlIRpIiw28sKQWqPfeScN2zQtSeeqL0PeYi+2/XXypXyx7Y8tgTRz69cqQNd33/fvxNO0N716/X2khi0bp2+9n3fp/u6HscP/IDuTR6xc7+SOP5gwwbt63oMvn+bN8tHvH9xSQzrPL4HP1i7uh7HKado96pVuqckBp/1eklfl3RzD167JD25JI4fk3SgB/vvjL+8cHz6YEkMPsufF3prT+Lw4+zDKuJgtmytZN+R7N8ZB2n+q8NDkofr+mNTuv76ZUmrS4pk7cJDgz2t6/uf7t+DS2LwWaf1KIafq4hhm6Qn9CiOEyviOL1HMfznihhO6VEMvyJpY0kcKyQ9vkdxVInFqT2K4Zck+VMhmEoJ+B399jbJXocglQJiJgQgAAEIQAACwyNg25OxIQ+5IN0q2Z1abFYaHgoihgAEIAABCEAAAkcI5Psg/a1k72CgSCoHBCAAAQhAAALDJpAXJB41MuzaQPQQgAAEIAABCCwSyAsSA0VSLSAAAQhAAAIQgIAQJCoBBCAAAQhAAAIQKBBAkApA+AgBCEAAAhCAAARsq2Te9Wgvt/lTGyAAAQhAAAIQgMBRAnapZOciSEeB8AYCEIAABCAAgWETsM3IEbnIAAAgAElEQVSSHZTMR3+3+5LmpC3DhkL0EIAABCAAAQgMm0C+D9I5kl0ybCBEDwEIQAACEIAABPKC5C1Ihxaut9GCRM2AAAQgAAEIQGDABPKCxDhIA64KhA4BCEAAAhCAQEoAQUpJ8B8CEIAABCAAAQgkBBAkqgIEIAABCEAAAhAoELAdkvmVtcPc5l9Aw0cIQAACEIAABIZKwJZL9l7JLkOQhloHiBsCEIAABCAAgQIBWy3Z1yT7tAuSD6ntzUk7CkvxEQIQgAAEIAABCAyIQL4P0t9J9k7Jlg2IAKFCAAIQgAAEIACBAoG8IH1Bsm9KtqawFB8hAAEIQAACEIDAgAjkBYlxkAZU9IQKAQhAAAIQgEAVAQSpigzzIQABCEAAAhAYLAEEabBFT+AQgAAEIAABCFQRQJCqyDAfAhCAAAQgAIHBErC1kt0l2VcYB2mwlYDAIQABCEAAAhDIE/A7+u1qyV6PIOXJ8AkCEIAABCAAgcESsO3J2JCHXJC+yG3+g60JBA4BCEAAAhCAwFEC+T5IPlDkOxgo8igd3kAAAhCAAAQgMEgCeUHiUSODrAQEDQEIQAACEIBAnkBekBgoMk+HTxCAAAQgAAEIDJIAgjTIYidoCEAAAhCAAARCBBCkEB3SIAABCEAAAhAYJAHbIpl3PdrLbf6DrAAEDQEIQAACEIBAOQG7VLJzEaRyOsyFAAQgAAEIQGBwBGyzZIck2+2CdF/yYcvgOBAwBCAAAQhAAAIQOEog3wfpHMkuOZrGGwhAAAIQgAAEIDBIAnlB8hYk75BEC9IgKwNBQwACEIAABCBwhEBekBgHiXoBAQhAAAIQgAAEhCBRCSAAAQhAAAIQgECBAIJUAMJHCEAAAhCAAAQgYDsk8ytrh7nNn9oAAQhAAAIQgAAEFgnYMsneI/lYSEdMyW3pBOhAAAIQgAAEIACB4RKwNZJ9Q7LPuiD5HWwuSDuGC4TIIQABCEAAAhCAQL4P0t9K9g7Jm5WYIAABCEAAAhCAwFAJ5AXpVsnulGztUHEQNwQgAAEIQAACEDjS3WjxqprRB4n6AAEIQAACEIAABBYJ5FuQGCiSagEBCEAAAhCAAAQYKJI6AAEIQAACEIAABIoEaEEqEuEzBCAAAQhAAAKDJ+D9se3bkn2ZPkiDrwwAgAAEIAABCEDgCIHFgSLfLtnfIEjUCQhAAAIQgAAEILBIwLZnHzXyecnukHz0SKZ5I7B8uf543Tq9tQ+vtWt1haSTSsrgEatX68o+xOD7uGKFnloSg1as0Kv7EsPq1fpbSWXHhDPXrNFVfYlD0qNLymLNypV6S19iWL1af1ESg5Yv17P6EsOaNXqzpB8oieNB0uL33r/7fXg9syQGn/XnPdl/Z/x3krZWxMHsQift/y3Zuxkocj7rxZYtuv7xj5e9/OXdf23apP2STi8piTO2btW+PsRwxhmyzZt1TUkM2rBBdzzjGd0vh5e+VIvjf1TI6lkPfaj296EsHvEIHZL0kpKy2OBN53/6p90vi2c/W7Z6tXaVxKB163Tp4x7X/Ri8ruzcqX2SnlISx2nSYnzPk9T11+ULx6cbSmLwWTdJ8md3dT0G37+9kk6tiIPZBUHiUSNzXCVckC64QGbW/dfOndpdJUgnn6xdfYjh7LPDgvS+93W/HPbsCQvSmWfqvj6UxdOetijclYJ0++3dL4ubbw4L0gte0P0YvK78yI/o3oAg3dmTQ7C3DIcE6Uk9ieO7CFKopLiLLURnrtIQpLgnEAQpLu+QqCFI3SkLBKlTpxUEKVgcCFIQzzwlIkhxTxIIUlzeCFJ3eIfKAkHq1FkFQQoWB4IUxDNPiQhS3BMIghSXd+ikTAtSd8oCQerUWQVBChaHbZHMux7t4Tb/IKj+JyJIcU8SCFJc3ghSd3iHygJB6tS5BEEaWxx2iWTnIEhjQfV7AQQp7gkEQYrLO3RSpgWpO2WBIHXqPIIgBYvDNkt2SDK/acj/LH7YHFyHxF4SQJDiniQQpLi8EaTu8A6VBYLUqdMHghQsjnwfpHMkb05imkcCCFLcEwiCFJd36KRMC1J3ygJB6tTZBUEKFkdekPYkHZK2BNdpN/G/SPodSY9rdzf6lzuCFPckgSDF5Y0gdYd3qCwQpE6dOxCkYHHkBcmS546cEFyn3cQb/VqgpMva3Q19/0L+L5L0QUlflPSFBWn7kKRXSjpT0uqW928kewQp7gkEQYrLO3RSpgWpO2WBII0cmtucgSAF6SNIQTwlicsWBO2F0uJw+eljGMr+/3DJuq3OQpDiniQQpLi8EaTu8A6VBYLU6mmgmDmCVCSS+9w/QXpZ8iDA5+TiiPfh1UkLlkvR1xce9HeepN9OXn8m6T2SDkpCkKZ4pAmPGunGyY5HjXSjHFw4eNRIvIP8BDnxqJEJIPV/EduRXFU77Of9Plxia5P50zJy5E9C3lixMycG0ipWaX42LUhxT3a0IMXlHWq14BJbd8qCFqTmj/VLyIEWpCAsWybZNZL9PYIUBLUoQ99OBOnjklaGF+9eKoIU9ySBIMXljSB1h3eoLBCkTp0bEKRgcdgayW6X7HN+7vchtb0VaUdwnXYTny/pIklPj7wbfhkt7Wt0RuS8Z5IdghT3BIIgxeUdOinTgtSdskCQZnI4n9VGEKQgyXwfpL+R7O2SNyt1dmrrLrZ3J4LkrUgrOksnsGMIUtyTBIIUlzeC1B3eobJAkAIH6fhJCFKQeV6QviTZtyRbG1yn3cRxgnSKpAdO+SoKon/+ViJI70rC/ylJfyfpZkm3SPL5vy+ps2NIIUhxTyAIUlzeoZMyLUjdKQsEqd0TaCF3BKkAJP8xL0h96KQ9TpDuylwKSy+JLfX/+jwk+SXHdBsXSPLXYq/2zPw0/U5Jjyms34mPCFLckwSCFJc3gtQd3qGyQJA6cTpIdwJBSkmU/keQUrHJ/i8K0oMyIvS15L23KL1A0i8stCD9iqTXSTqQpN0n6dRS3i3ORJDinkAQpLi8QydlWpC6UxYIUosngdGsEaRRJpk58ydITVxie1hGkFykbl+4vPaADMX07a9mWpben87syn8EKe5JAkGKyxtB6g7vUFkgSF05IyzuB4IULI75E6RguDUT/bEi2Ram3w1s56rMsi5rnZkQpLgnEAQpLu/QSZkWpO6UBYLUmVOC7wiCFCwO74+92C/7S35en4c+SMFwayb6s+myguSX3KqmZ2WWfVLVQm3MR5DiniQQpLi8EaTu8A6VBYLUxtG/Mk8EqRKNJywOFPkO6f+0d+5BllT1Hf/u7M7s3JndmcWdDSBRHlqUREWjhhDJqwySWFiQpLBiUaSwzIN/SKyKFqSwJFUxpUaRxUJBFEFXFghRwlPRdS3KEHwEjUYFUd4KLGoAYZd97y/7m+07dt/pPn3XmT339O3Prbq19/bpe0//Pr+e/n323O7TduWwCJKP4GxY4HN5DzO/iu0Xmfj4bURGe9rzb/8kJ0h/l28Y9GsEKW4BQZDi8g4VZUaQ0skFgjToSlDoH0Eq4Oh9U7zVyL3ZrJG9gtD7qUG+H8RVbB7vnZn4+NVrVbcY8fX+LCdIoZ/iojNEkOIWCQQpLm8EKR3eoVwgSNEP/aEOEaQQHRXPQbpKsi80fKLIf5L0vgU+y0aI/Hu7P7OFrlA7N7eejyYl80CQ4hYQBCku71BRZgQpnVwgSMmUBN8QBCmYjqIgNeFWI3UjSMFwF9D4Ekm7M/l5f8X3+Azb387W2SJpZcV6A1mMIMUtEghSXN4IUjq8Q7lAkAZy+K/qFEGqIjO7vChInKQdhDU7c7aPIu2QdFrPqj7q9OHc6NEFPe0Df4sgxS0gCFJc3qGizAhSOrlAkAZeCvIbgCDlacx7jSDNQxJY8DxJ9+QkyM9Luii7ee6DueV++5FO4HsG0oQgxS0SCFJc3ghSOrxDuUCQBnL4r+oUQaoiM7scQQriKWk8RNJNORnqnpfk//oVblfUnMRd8pVxFiFIcQsIghSXd6goM4KUTi4QpDjH+z57QZCCoGxaMj/1aKvX/Cb8xObnAr26YibrYKiL3HiMpLftPc/og9kJ4X8jKamJIXvjRZDiFgkEKS5vBCkd3qFcIEi9R+aBvkeQavGbX7x2YVMEqTYcVigngCDFLSAIUlzeoaLMCFI6uUCQyo/PA1qKIAXB25RkuyXz+6valuzNVPAzNDaSAIIUt0ggSHF5I0jp8A7lAkFKqnwgSMF0FM9BWivZ+uD6NDaWAIIUt4AgSHF5h4oyI0jp5AJBSqqEIEjBdBQFaWt2QtJ08DM0NpIAghS3SCBIcXkjSOnwDuUCQUqqfCBIwXQUBakJJ2kHw6GxmgCCFLeAIEhxeYeKMiNI6eQCQao+Rg+gBUEKQkeQgniGqRFBilskEKS4vBGkdHiHcoEgJVVVEKRgOhCkIJ5hakSQ4hYQBCku71BRZgQpnVwgSElVFQQpmA5bk01/5Depb8Q8SMFwaKwmgCDFLRIIUlzeCFI6vEO5QJCqj9EDaEGQgtBtiWS3SvYpBCkIqvmNLkhnny3bsCH95+rV2ibpxBLqJx98sLY2IYazzpJNTem2khg0OaknPvCB9PNw663qzhT//JI4zjn+eG1vQi5OOml2lvt3l8Qw6Qe+665LPxeXXCIbG9PmkhjU6Wj9GWekH4PvK0ceKZ9T5vSSOI6T9HT2d+9/+yk/37d3++4oicEXfUPSvyS+/V22notXVMTBYtlyyX4q2Y/8OOFTavuJ2jOQGT4CnY7ePzGhx5rwHB+X39vOZ03vfbx8fFwPNSEG38bxcZUVZU1M6IYGxXB3xe1zTp2Y0KNNiaOiKC/rdPSdpsTQ6Whj7x+Ev1+2TO9oUAyPSDq+JI4XSPJ97f6GPD9UEoMvurQh2++cv7f3XqKHVsTBYhXPQfqEZDdJPqzEAwIQgAAEIAABCLSVQFGQHpLsScnG24qDuCEAAQhAAAIQgIB6RpCYB4l9AgIQgAAEIAABCCBI7AMQgAAEIAABCECgl0DxJzZGkHr58B4CEIAABCAAgRYSQJBamHRChgAEIAABCEAgTGD2Mv+fSXYf8yCFSdEKAQhAAAIQgEBrCMxOFHmLZJ9EkFqTdAKFAAQgAAEIQCBMoHirkXske0yysfCHaIUABCAAAQhAAALDTKB4DtLVkn1RspFhDpnYIAABCEAAAhCAQJhAUZC6txpZE/4QrRCAAAQgAAEIQGCYCRQFicv8hznXxAYBCEAAAhCAQJ8EEKQ+QbEaBCAAAQhAAALtIYAgtSfXRAoBCEAAAhCAQJ8EbFqy3ZI9x2X+fSJjNQhAAAIQgAAE2kDAPi3ZhQhSG3JNjBCAAAQgAAEI9EGgOIK0WbJde21pqo9PsgoEIAABCEAAAhAYUgLFc5DWSrZ+SCMlLAhAAAIQgAAEINAngaIgbZPM50Ka7vPTrAYBCEAAAhCAAASGkEBRkJgHaQhTTEgQgAAEIAABCOwvAQRpf4mxPgQgAAEIQAACQ08AQRr6FBMgBCAAAQhAAAL7S8DWSOa/rO3hMv/9Zcf6EIAABCAAAQgMKQFbItktkn0SQRrSFBMWBCAAAQhAAAL7S8DGJfuZZPe7IPmU2j6cNLO/X8P6EIAABCAAAQhAYHgIFM9BulyyGyUfVuIBAQhAAAIQgAAE2kqgKEgPS/aU5MNKPCAAAQhAAAIQgEBbCRQFiXmQ2rofEDcEIAABCEAAAjkCCFIOBi8hAAEIQAACEICAE0CQ2A8gAAEIQAACEIBADwEEqQcIbyEAAQhAAAIQgIAtl+wJyX7IPEjsDRCAAAQgAAEIQGCWwOxEkZ+TbB2CxC4BAQhAAAIQgAAEZgkUbzXyfckelWwMOhCAAAQgAAEIQKC9BIrnIF0j2ZckG2kvECKHAAQgAAEIQAACRUHak91qZA1gIAABCEAAAhCAQHsJFAWJiSLbuycQOQQgAAEIQAACcwQQpDkUvIAABCAAAQhAAAL7CCBI7AkQgAAEIAABCECgh4BNSbZbsue4zL8HDW8hAAEIQAACEGgzAbtKsgsRpDbvA8QOAQhAAAIQgECOgE1L5hevbXVB2izZrr22NJVbg5cQgAAEIAABCECgZQSK5yCtlWx9ywgQLgQgAAEIQAACEOghUBSkbdlw0qqetXgLAQhAAAIQgAAEWkSgKEjMg9Si1BMqBCAAAQhAAAJVBBCkKjIshwAEIAABCECgtQQQpNamnsAhAAEIQAACEKgiYGuy26/t4TL/KkYshwAEIAABCECgZQRsiWS3SHYlgtSy1BMuBCAAAQhAAAJVBGxcsp9L9oALkk+p7Sdqz1StznIIQAACEIAABCAw/ASK5yB9TLIbJB9W4gEBCEAAAhCAAATaSqAoSD+W7GnJOm3FMeRxHyLpqIY8X1iRi4mGbH+Xs29v2cPj666T+r++35Q9fL601Lc9v32jJUH4fwbz66T+enVJDL5oTYPiOEJS2X/ClzcoBt9PVlbk4rAGxeHbyqOSQFGQmAepElTzG8bHtcF/R23Q84QS6ic3aPut09G/l8SgsTH9pClxLFkiv4KjrDCf05QYsu08ryQXk02KYXRUPy2JQaOjWtekOCT9aUkcxzUphk5HXymJwRd9o0lxSDq6Ig4WC0FqzU4wPa3bL75YZpb+89BDtUXSiSXJOfnww7W5CTFccIFsakq3lcSgyUk9sXFj+nnYunVOqJ9fEsc5p5yi55qQizPP1A5J7y6JYVaQNm1KPxd33SUbG9PmkhjU6Wj9+eenH4PvK8ceq2clnV4Sx3ErV2pbE/andetk09P6dkkMvsgF6S8q2lJb/IykV6S2UelsD4KUTi4O8JYgSHELCIIUl3eosCJI6eQCQTrAB/r9+3oEKcgLQQriGaZGBClukUCQ4vJGkNLhHcoFgpRUVUGQgumw5ZJtkuxe/9mUc5CCsJrdiCDFLSAIUlzeoaLMCFI6uUCQkqojCFIwHbMTRd4m2acRpCCo5jciSHGLBIIUlzeClA7vUC4QpKRqCYIUTEfxViPflcwv9R8LfobGRhJAkOIWEAQpLu9QUWYEKZ1cIEhJlQ8EKZiO4jlI10q2UbKR4GdobCQBBClukUCQ4vJGkNLhHcoFgpRU+UCQgukoCtKe7Dwkn3SMx5ARQJDiFhAEKS7vUFFmBCmdXCBISRUWBCmYjqIgcZJ2EFazGxGkuEUCQYrLG0FKh3coFwhSUnUEQQqmo3mCdL2k+yVdFIyLxnkEEKS4BQRBiss7VJQZQUonFwjSvEPzIBcgSEH6zROkr2XTuF8djGvxG+/bz+njf7D4m7Cwb0SQ4hYJBCkubwQpHd6hXCBICzuOL/KnEaQgUJuSbLdkfmeHRsyD1BRBujHIfQCNCFLcAoIgxeUdKsqMIKWTCwRpAAf/6i4RpGo2WYtdJdnapgjSSyS9WtKRtXEt7govy/r1vquel+dGmU5d3O4X/m0IUtwigSDF5Y0gpcM7lAsEaeHH8kX8BgQpCNOmJfOL17Z6bX9Wsl2SrQx+hsYyAksk/SgTpE2SRstWGuQyBCluAUGQ4vIOFWVGkNLJBYI0yCowr28EaR6S/ILiOUgXSj6clPTD5e0gSX4X7pQef5AbPXp/ShvW3RYEKW6RQJDi8kaQ0uEdygWC1D0iJ/EvghRMQ1GQtmfnIa0KfmawjYM6B6ku6nU5QTqmbuVBtCNIcQsIghSXd6goM4KUTi4QpEEc/Sv7RJAq0XhDUZCaMA9SioI0LWn2LHdJdwR5D7ARQYpbJBCkuLwRpHR4h3KBIA2wCMzvGkGazyS3ZPgEyc82v2yBz/29F91ZudGjt+boJvUSQYpbQBCkuLxDRZkRpHRygSAlVRYQpGA6hk+QnszJiv2KryeCzOY3fiPr51lJyZ7gjiDFLRIIUlzeCFI6vEO5QJDmF5ABLkGQgvBtJjvtaI/X+GH4ie1KSdct8Lk8yKzY+PKchPll/sk+EKS4BQRBiss7VJQZQUonFwhSUiUCQQqmw5ZIdrNkVwyLIAXDPQCNfsuT7kjV7xyA71+0r0SQ4hYJBCkubwQpHd6hXCBIi3ZIX4wvQpCCFG1csicle8jrvE+p7aNIM8HPDLYxpZO0/Vyln2aC5LcW8bmQkn0gSHELCIIUl3eoKDOClE4uEKSkSgSCFExH8RykyyS7XvJhpWQfdYL0ysBM11UzYPcuH+kz+jflRo/e0ednBrYaghS3SCBIcXkjSOnwDuUCQRpYCSjrGEEqozK3rChIP5HsF5J15trTe1EnSDFP0r4tE6Sdkg5JD1VxixCkuAUEQYrLO1SUGUFKJxcIUvG4POB3CFIwAUVBGoaTtGMJ0q9L2pUJ0vVBxok0IkhxiwSCFJc3gpQO71AuEKRECsK+zUCQgukYPkHyWcD9ViQLefbzE+O7cj+vvTHIOJFGBCluAUGQ4vIOFWVGkNLJBYKUSEHYtxkIUjAdwydIwXAXqdEF6r5MkB6XtGyRvveAfg2CFLdIIEhxeSNI6fAO5QJBOqCH+f39cgQpSAxBCuKpaDwxN3r0nop1kluMIMUtIAhSXN6hoswIUjq5QJCSKg0IUjAdNibZY5Ld4zV/GM5BCoa7SI1X5wTpJYv0nQf8axCkuEUCQYrLG0FKh3coFwjSAT/U708HCFKQ1uxEkV+QbH1TBOliSRsknReM68A1ju6dRuDmbBsuPXDdLP43I0hxCwiCFJd3qCgzgpROLhCkxT+2L+AbEaQgPFuTv9XIdyR7RPJhJR7DRgBBilskEKS4vBGkdHiHcoEgJVVZEKRgOornIF0n2Zcl63eixOBX05gWAQQpbgFBkOLyDhVlRpDSyQWClFRdQJCC6SgKUvccpDXBz9DYSAIIUtwigSDF5Y0gpcM7lAsEKanygSAF01EuSL8W/AyNjSSAIMUtIAhSXN6hoswIUjq5QJCSKh8IUjAdCFIQzzA1IkhxiwSCFJc3gpQO71AuEKSkqgqCFEwHghTEM0yNCFLcAoIgxeUdKsqMIKWTCwQpqaqCIAXTYVOS7ZJsc1Mu8w+GQ2M1AQQpbpFAkOLyRpDS4R3KBYJUfYweQAuCVAvd50CytQhSLahmr4AgxS0gCFJc3qGizAhSOrlAkJKqIwhSMB02Ldkeyba5ID0j2U7JVgY/Q2MjCSBIcYsEghSXN4KUDu9QLhCkpMoHghRMR/EcpLXZlNrBj9DYTAIrVmjjIYdo+0tfqi2pP5ct0y5Jrysh/YbRUe1Kfft9+w4+WNsnJnRLSQzqdPTY4Ydra+pxHHOMtvj/nCQdWhLHO1as0I7UY/Dtm57WDkn/XBLDhMd39NF6LvU4jjpKW0dH5QVt3mNsTOtmZpqRi+XLtVPSm+cFIb1mZES7U8+Db99hh2n7ihX6ZkkMvujrku6XdFcDnn6cfXlFHCxWUZC2Z9Nqr4LMUBLwP4Q3NeR5mqROSRa8oHlbU+J4aUkMvuiEBsVwiqQlJXEc0qAYfH95QUkMvugNDYrjDytiOLpBMXgupkvi8Ns4/XmD4nhVSQy+6DUNisF5L6uIg8U9gtSdKJJ5kNg1IAABCEAAAhBoMYHiCBKC1OJdgdAhAAEIQAACEOgSQJC6JPgXAhCAAAQgAAEIZARsJjvtaDeX+bNTQAACEIAABCAAgVkCtkSymyS7HEFil4AABCAAAQhAAAKzBGxcsqcke9gFaXc2nDQDHQhAAAIQgAAEINBeAsVzkC6T7Pr2wiByCEAAAhCAAAQg4ASKgvRoNpt22fwz8IIABCAAAQhAAAItIVAUJC7zb0naCRMCEIAABCAAgRABBClEhzYIQAACEIAABFpJAEFqZdoJGgIQgAAEIACBEAEEKUSHNghAAAIQgAAEWknAxiTzc7O/zzxIrdwBCBoCEIAABCAAgfkEbESyL0l2DYI0nw5LIAABCEAAAhBoJQFbk80NuccF6X8ke1Cy0VayIGgIQAACEIAABCAwS6B4DtJnJLtd8mElHhCAAAQgAAEIQKCtBIqCxDxIbd0PiBsCEIAABCAAgRwBBCkHg5cQgAAEIAABCEDACSBI7AcQgAAEIAABCECghwCC1AOEtxCAAAQgAAEIQMCmJNsl2WYu82dvgAAEIAABCEAAAnMEbL1kaxGkOSC8gAAEIAABCECg3QRslWR7JNvmgvSMZDslW9luKEQPAQhAAAIQgEC7CRTPQbpIsqvbDYToIQABCEAAAhCAQFGQtmfTaq8CDAQgAAEIQAACEGgvgaIgMVFke/cEIocABCAAAQhAYI4AgjSHghcQgAAEIAABCEBgHwEEiT0BAhCAAAQgAAEI9BCwmey0o91c5t+DhrcQgAAEIAABCLSVgC2R7AbJPo4gtXUfIG4IQAACEIAABHoIWEeypyV7xAVpdzacNNOzFm8hAAEIQAACEIBAiwgUz0H6qGSfbVH0hAoBCEAAAhCAAARKCBQF6THJnpV8WIkHBCAAAQhAAAIQaCuBoiAxD1Jb9wPihgAEIAABCEAgRwBBysHgJQQgAAEIQAACEHACCBL7AQQgAAEIQAACEOghgCD1AOEtBCAAAQhAAAIQsDHJfizZd5kHib0BAhCAAAQgAAEIzBKwEck2SnYtgsQuAQEIQAACEIAABGYJ2Jpsbsg9LkjflOwByUahAwEIQAACEIAABNpLoHgO0n9I9p+SDyvxgAAEIAABCEAAAm0lUBQk5kFq635A3BCAAAQgAAEI5AggSDkYvIQABCAAAQhAAAJOAEFiP4AABCAAAQhAAAI9BBCkHiC8hQAEIAABCEAAArZSsl377lEr4xwk9ggIQAACEIAABCAwS8CukuxC5kFid4AABCAAAQhAAAKzBGxVNg/SdhekX0i2Q7IV0IEABCAAAQhAAALtJVA8B+kiya5uLwwihwAEIAABCEAAAk6gKEg+euTnIR0EHAhAAAIQgAAEINBeAkVB4iTt9u4JRA4BCEAAAhCAwBwBBGkOxbC/GBnR34+O6vImPJcu1UclHVySk5cvXaWv6aEAAA95SURBVKqPNyEG30ZJp5XEoJERvbcpMSxbposkjZXE8cdNiSHLxWtLYlg+MqKPNSWOkRG9syQGX/SWpsSwdKkuk/SikjiOaNLf9tKlemtJDP63fV6DcvERSSvL4mCZE0CQWrMfTE/r9te/Xnbuuek/Jye1Q9KJJck5eWpKO5oQw+teJ5ua0m0lMWhyUk+8+c3p5+Htb5f5UULS80viOOfFL9bOJuTiZS/TbknvLolh0uM7++z0c3HmmbKxMW0uiUGdjtafcEL6Mfi+MjMjvyLo9JI4jhsb064m7E9vfKNselrfLolBU1O6+9RTm5GLZctm/y5eURYHy5yAzWSnHfnxg3mQhnmncEG6+GKZWfrPQw/VlipBOvxwbW5CDBdcEBakjRvTz8PWrWFBOuUUPdeEXJx55qxwVwrSpk3p5+Kuu8KCdP756cfg+8qxx+rZKkFauVLbmrA/rVsXFqRrr21GLsbHZ/8uEKTKwm9LJLteMh/1RJAqOQ1BA4IU96CFIMXlHSqsCFI6uUCQ0skFglRX2K2TTX/0Yxckn1LbT9ReXfcx2ptHAEGKe2BCkOLyRpDS4R3KBYKUTp4QpLo6XjwH6VLJPlv3EdqbSQBBintgQpDi8g4VZUaQ0skFgpROLhCkulpeFKTHJdss2UTdx2hvHgEEKe6BCUGKyxtBSod3KBcIUjp5QpDq6nhRkJgHqY5Xg9sRpLgHJgQpLu9QUWYEKZ1cIEjp5AJBqivoCFIdoaFpR5DiHpgQpLi8EaR0eIdygSClkycEqa68I0h1hIamHUGKe2BCkOLyDhVlRpDSyQWClE4uEKS68t48QfojSW+S9Nt1odFeJIAgxT0wIUhxeSNI6fAO5QJBSidPCFKxRs5/Z2OSPSLZd5oyD9LXfEMlXT0/mChLxiX9Zdb/XXtf3y/pW5L+TZqdet5n5k3ygSDFPTAhSHF5h4oyI0jp5AJBSicXCFJdqbYRyb4s2XUIUh0r6WWS7s0ErXsLht5/H5J0XP1XxV8DQYp7YEKQ4vJGkNLhHcoFgpROnhCkujpsa345gbbsvyW7T7LRuo8NsP1iSRsknRd5G54n6fGcHPk2/LWkN2QjR7fk2p6UdGjk7avtDkGKe2BCkOLyDhVlRpDSyQWClE4uEKS6slk8B+lGye6QbGndx1rY7nfR7o4W+d3Nyx7n5NZ5f9kKg1yGIMU9MCFIcXkjSOnwDuUCQUonTwhSXUUuChLzIFXz+lwmP3skTVes5iNvW7P17qxYZ2CLEaS4ByYEKS7vUFFmBCmdXCBI6eQCQaorx80TpH/c+/OV31nXf96K+fhSJj4/q+n0B9l6fgJ3Ug8EKe6BCUGKyxtBSod3KBcIUjp5QpDqSnTzBGlQV7Fd0scI0rLcCNL6OvSx2xGkuAcmBCku71BRZgQpnVwgSOnkAkGqq8LDJ0irJB20wOeSEmzHStqdSdKFJe2+6B05iXptxToDW4wgxT0wIUhxeSNI6fAO5QJBSidPCFJdObaVku2U7Fmv7U04B6luBMmvIOueTP2r/lt1s96/lbQz+/4vZlevnSTpLZJuzpa7RP1DHfZBtCNIcQ9MCFJc3qGizAhSOrlAkNLJBYLUTyW2qyRbiyD9UqyqBMlp+lxI3RO2ewXsK5Je1Q/yQayDIMU9MCFIcXkjSOnwDuUCQUonTwhSXSW2VdnA0XYXpKcl2yHZirqPDbC9bgTpCElHLfBZ9hObh/xKSV+W5FeyuRztkvRYblTJl/nVa8cPkE9l1whS3AMTghSXd6goM4KUTi4QpHRygSBVlsusoXgO0kWSDeoWHnVb2m2vE6Tueov9r8vRM5kY/VDS6yWNZZ345f2/J+l/s3a/1P+Exd6AhX4fghT3wIQgxeWNIKXDO5QLBCmdPCFIdVW1KEg+euTnIflJzqk+BiVIX83k52lJh1XAWZ2bbft7kqpGoio+fmAXI0hxD0wIUlzeoaLMCFI6uUCQ0skFglRXc4uCNAwnaV8pyW8st5Dn8h5sfmVc93yjq3raet++N7eu/9yXzANBintgQpDi8kaQ0uEdygWClE6eEKS68jx8gnQgrmJ7TU563lWD9K9y6/rPcMk8EKS4ByYEKS7vUFFmBCmdXCBI6eQCQaorz8MnSH45ns+0vZBn99yiLj2fA6k7gvTh7sKKf7tzIfn6v1+xzkAWI0hxD0wIUlzeCFI6vEO5QJDSyROCVFeKbSY77Wh2DsRh+ImtLuJfpd0v+9+WSZKfWzQS+JI7svUc6ExgvehNCFLcAxOCFJd3qCgzgpROLhCkdHKBIPVThu16yXzAZSgmiuwn4l9lnWt6RpH8yrX8Y+neq9rek1vH50pK6oEgxT0wIUhxeSNI6fAO5QJBSidPCFJdibaOZM9I9qjX9l2ZJPnVWKk+BnUV2wuzOY+6P7U9LMnvt+ZStE7S/Tk5+rmko1MDiCDFPTAhSHF5h4oyI0jp5AJBSicXCFJdlS6eg3SJZJ+p+8iA2wclSB72i7KJIruSVPbvf0k6ZsCMSrtHkOIemBCkuLwRpHR4h3KBIKWTJwSptFTmFhYFaZNkWyQL3Woj9+GBvPwtSSdmt/wYyAZkfZ8tqXtC+EWS3ibpNwe1Qf30iyDFPTAhSHF5h4oyI0jp5AJBSicXCFJd5SwKUhNO0q6LiPYKAghS3AMTghSXN4KUDu9QLhCkdPKEIFUUy7nFCNIcimF/gSDFPTAhSHF5h4oyI0jp5AJBSicXCFJd1UeQ6ggNTTuCFPfAhCDF5Y0gpcM7lAsEKZ08IUh15R1BqiM0NO0IUtwDE4IUl3eoKDOClE4uEKR0coEg1ZV3G5XsIcm+7Vepcw5SHa8GtyNIcQ9MCFJc3ghSOrxDuUCQ0skTglRX0G1Estuzq/sRpDpcTW5HkOIemBCkuLxDRZkRpHRygSClkwsEqa6iF39i+7pkP5R8WInHsBFAkOIemBCkuLwRpHR4h3KBIKWTJwSprsoXBelmye6UzG+bwWPICCBIcQ9MCFJc3qGizAhSOrlAkNLJBYJUV+SLgsQ5SHW8GtzugnT22bING9J/rl49e3NgnxC093HywQdraxNiOOss2dSUbusNwN9PTuqJD3wg/Tzcequ6s8U/vySOc44/XtubkIuTTtIuSe8uiWHST7687rr0c3HJJbKxMW0uiUGdjtafcUb6Mfi+cuSRek7S6SVxHDcxoR1N2J/OPVc2PS0/cXfeY2pKd7/znc3IxdjY7N/FK+YFwYKMAILUml2h09FFK1ZoUxOenY5+LOk3SpLzSm9rQgy+jcuX619LYnBB+nxTYhgf148krSyJ47TJST3ehDh8OyW9pSSGZePjuqcJMfg2TkzojpIYtGyZzmtQDH7jz98tieOITkcPNyiOK0pi8L/tq5oSw/i4HpR0WFkcLHMCCBL7AQQgAAEIQAACEOghgCD1AOEtBCAAAQhAAAIQsJWS7ZTsGeZBYm+AAAQgAAEIQAACcwRsvWR+Y3rmQZpjwgsIQAACEIAABFpMwFZlXrTdBekpybZLtqLFRAgdAhCAAAQgAIHWEyieg/Qhya5uPRMAQAACEIAABCDQcgJFQdqRDScd1HIqhA8BCEAAAhCAQKsJFAWJiSJbvTMQPAQgAAEIQAAC+wggSOwJEIAABCAAAQhAoIcAgtQDhLcQgAAEIAABCEDAZrLTjnZzmT97AwQgAAEIQAACEJgjYNdL9lEEaQ4ILyAAAQhAAAIQaDcB60j2rGSPuSDtyoaTVrcbCtFDAAIQgAAEINBuAsVzkD4i2XXtBkL0EIAABCAAAQhAoChIT0i2RbIJwEAAAhCAAAQgAIH2EigKEvMgtXdPIHIIQAACEIAABOYIIEhzKHgBAQhAAAIQgAAE9hFAkNgTIAABCEAAAhCAQA8BBKkHCG8hAAEIQAACEICAjUr2gGTfYh4k9gYIQAACEIAABCAwS8BGJPuK5JNFyjhJm90CAhCAAAQgAAEIqPgT252S3SPZMshAAAIQgAAEIACB9hIoCtKtkn1VsqXtBULkEIAABCAAAQhAoChI/MTGHgEBCEAAAhCAAAR6fmJDkNglIAABCEAAAhCAAILEPgABCEAAAhCAAAR6CfATWy8R3kMAAhCAAAQg0HoCtkKyHZL9gsv8W78zAAACEIAABCAAgV8SsPWSrUWQfkmEVxCAAAQgAAEItJqAHZTND7nDBekpybZLPqzEAwIQgAAEIAABCLSVQPEcpA9JdnVbURA3BCAAAQhAAAIQ2EegKEg7s+Gk54EHAhCAAAQgAAEItJdAUZCYB6m9ewKRQwACEIAABCAwRwBBmkPBCwhAAAIQgAAEILCPAILEngABCEAAAhCAAAR6CNjq7LSj3Vzm34OGtxCAAAQgAAEItJmAfVayS/OC9AJp9vp/nwOg9zkm2UjJ8u56k/tQ2srqdXwNW17dbvQxx70vVksCLBcrH4PuI5t6YsH7VSgO+pjb72b/Bvth5TPNdv/2e/5d8L7bzceA+zDnUHe8WiAr+sj2oz5yHo2V16GefXruvbctRs5Dffg+Rx/7cuAcBsHqUMk2S/a4S8uubDjpuezf7knb+X9/ItmGQLt/x1WS7Qmsc2M251L+e/OvF6OPG2r6eHQR4liMPj69QFaPSfbFAGvPR10fN0n2ZOA7vI8vBNr7zXldH6E4dve5X/1fYDsfr4nD++iH1YHu42bJ6vq4LRBnP6zq+tgk2ecXoY+fB77D+1iMOOr6qIujLue3SBbq44k+WPXTx88CrLyPzwXa+8n5rZLV9eHr5I/F+df99OGsQn38tI846ljVxdFvHx5PPr78a2ft35Nfln/tbSFWXv+8Di6kD+foPPP95l/304dvo+87+c/lX3sfixFHXR91cXjOQ6z8bzjUh/99LkYffkzK88m9lr197ySRF0j2SPVK9j3Jrgm0u22tlWxbxToO4eM1fXx/33xMVRs6a3T99PFwxTZ40N7HYsQR6uPuPuK4sIbV5ZLV9eFToecSWXjt+Qj14X9kn4jQh8fxUGA775Fmp3SvimNLn3HU9eEHrQPZxw+yA2Oojw9KtrViOzwfV0j2YEW7f6/34QeUUB+e84X0ce8i9fFAYDtj9PHDGun1/aouH1dKForD+1gX+I+O/4eznz7uD7DyPj5V00ddzj8pWaiPHy1CH87qvkAc/fThrKr+k+5/Hx5HqA9vq2NV14d/vq4P3w7fnrK/Q99+z0coDu/DeZR93pd5/86zqg//+15oH74/hOLotw/fP6vi8D7q4qjLh/99hfrwv89++vC/97LtdMZ+TK3qY+P/AzDWIpdWk4jVAAAAAElFTkSuQmCC)"
      ]
    },
    {
      "cell_type": "markdown",
      "metadata": {
        "id": "ytAKEc1UxKl6"
      },
      "source": [
        "**Tri par selection**"
      ]
    },
    {
      "cell_type": "code",
      "execution_count": null,
      "metadata": {
        "id": "FQLGaFaYxd83"
      },
      "outputs": [],
      "source": [
        "def tri_selection(liste):\n",
        "  for i in range(len(liste)):\n",
        "    # Trouver l'indice du plus petit élément dans la partie non triée de la liste\n",
        "    min_index = i\n",
        "    for j in range(i + 1, len(liste)):\n",
        "      if liste[j] < liste[min_index]:\n",
        "        min_index = j\n",
        "\n",
        "    # Échanger le plus petit élément avec l'élément à la position i\n",
        "    liste[i], liste[min_index] = liste[min_index], liste[i]\n"
      ]
    },
    {
      "cell_type": "code",
      "execution_count": null,
      "metadata": {
        "id": "eqdDBjVkyQla"
      },
      "outputs": [],
      "source": []
    },
    {
      "cell_type": "markdown",
      "metadata": {
        "id": "fh3c5ZumyREq"
      },
      "source": [
        "*** 1  Trier la liste suivante en utilisant le tri par sélection : `liste1=[5, 2, 8, 1, 9]` et `liste2 = [\"banane\", \"pomme\", \"orange\", \"cerise\"]`"
      ]
    },
    {
      "cell_type": "code",
      "execution_count": null,
      "metadata": {
        "id": "16qijtQiyRMU"
      },
      "outputs": [],
      "source": [
        "\n",
        "liste1 = [5, 2, 8, 1, 9]\n",
        "tri_selection(liste1)\n",
        "print(liste1)\n",
        "\n",
        "liste2 = [\"banane\", \"pomme\", \"orange\", \"cerise\"]\n",
        "tri_selection(liste2)\n",
        "print(liste2)\n"
      ]
    },
    {
      "cell_type": "markdown",
      "metadata": {
        "id": "Xz9ifJeUyrFu"
      },
      "source": [
        "*** 2. Écrire une fonction qui trie une liste de tuples par le premier élément\n",
        "   de chaque tuple en utilisant le tri par sélection. `[(3, \"pomme\"), (1, \"banane\"), (2, \"orange\")]`"
      ]
    },
    {
      "cell_type": "code",
      "execution_count": null,
      "metadata": {
        "id": "laWABVBOy2G4"
      },
      "outputs": [],
      "source": [
        "def tri_tuples(liste_tuples):\n",
        "  for i in range(len(liste_tuples)):\n",
        "    min_index = i\n",
        "    for j in range(i + 1, len(liste_tuples)):\n",
        "      if liste_tuples[j][0] < liste_tuples[min_index][0]:\n",
        "        min_index = j\n",
        "    liste_tuples[i], liste_tuples[min_index] = liste_tuples[min_index], liste_tuples[i]\n",
        "\n",
        "liste_tuples = [(3, \"pomme\"), (1, \"banane\"), (2, \"orange\")]\n",
        "tri_tuples(liste_tuples)\n",
        "print(liste_tuples)\n"
      ]
    },
    {
      "cell_type": "markdown",
      "metadata": {
        "id": "LnZ908c2xOiK"
      },
      "source": [
        "**Tri Bulle**"
      ]
    },
    {
      "cell_type": "markdown",
      "metadata": {
        "id": "vsWS35F20XOO"
      },
      "source": [
        "**Concept de tri à bulle**\n",
        "\n",
        "Le tri à bulle est un algorithme de tri simple qui compare\n",
        "répétitivement des paires d'éléments adjacents et les échange\n",
        "si ils ne sont pas dans le bon ordre. Le processus est répété\n",
        "jusqu'à ce qu'aucun échange ne soit nécessaire, ce qui indique\n",
        "que la liste est triée.\n",
        "\n",
        "**Étapes du tri à bulle**\n",
        "\n",
        "1. Parcourir la liste, en comparant chaque paire d'éléments adjacents.\n",
        "2. Si une paire d'éléments n'est pas dans le bon ordre, les échanger.\n",
        "3. Répéter les étapes 1 et 2 jusqu'à ce qu'aucun échange ne soit nécessaire.\n",
        "\n",
        "**Algorithme de tri à bulle**\n",
        "![image.png](data:image/png;base64,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)"
      ]
    },
    {
      "cell_type": "code",
      "execution_count": null,
      "metadata": {
        "id": "V23111CK0C7F"
      },
      "outputs": [],
      "source": [
        "\n",
        "def tri_bulle(liste):\n",
        "  n = len(liste)\n",
        "  for i in range(n-1):\n",
        "    for j in range(0, n-i-1):\n",
        "      if liste[j] > liste[j+1]:\n",
        "        liste[j], liste[j+1] = liste[j+1], liste[j]\n",
        "\n",
        "\n",
        "\n",
        "# 1. Tri de listes de nombres ou de chaînes de caractères.\n",
        "# 2. Tri de listes de tuples ou de dictionnaires en utilisant une fonction clé."
      ]
    },
    {
      "cell_type": "code",
      "execution_count": null,
      "metadata": {
        "id": "qMato05g2PrN"
      },
      "outputs": [],
      "source": [
        "\n",
        "\n",
        "# 1. Trier la liste suivante en utilisant le tri à bulle :\n",
        "#    `liste1=[5, 2, 8, 1, 9]` et `liste2 = [\"banane\", \"pomme\", \"orange\", \"cerise\"]`\n",
        "\n",
        "liste1 = [5, 2, 8, 1, 9]\n",
        "tri_bulle(liste1)\n",
        "print(liste1)\n",
        "\n",
        "liste2 = [\"banane\", \"pomme\", \"orange\", \"cerise\"]\n",
        "tri_bulle(liste2)\n",
        "print(liste2)\n",
        "\n"
      ]
    },
    {
      "cell_type": "code",
      "execution_count": null,
      "metadata": {
        "id": "Uv1zOmKx2Uqv"
      },
      "outputs": [],
      "source": [
        "'''\n",
        " 2. Écrire une fonction qui trie une liste de tuples par le premier élément\n",
        "    de chaque tuple en utilisant le tri à bulle.\n",
        "     `[(3, \"pomme\"), (1, \"banane\"), (2, \"orange\")]`\n",
        "'''\n",
        "\n",
        "def tri_tuples_bulle(liste_tuples):\n",
        "  n = len(liste_tuples)\n",
        "  for i in range(n-1):\n",
        "    for j in range(0, n-i-1):\n",
        "      if liste_tuples[j][0] > liste_tuples[j+1][0]:\n",
        "        liste_tuples[j], liste_tuples[j+1] = liste_tuples[j+1], liste_tuples[j]\n",
        "\n",
        "liste_tuples = [(3, \"pomme\"), (1, \"banane\"), (2, \"orange\")]\n",
        "tri_tuples_bulle(liste_tuples)\n",
        "print(liste_tuples)"
      ]
    },
    {
      "cell_type": "markdown",
      "metadata": {
        "id": "fL1e7MIxxShx"
      },
      "source": [
        "**Tri par insertion**"
      ]
    },
    {
      "cell_type": "code",
      "execution_count": null,
      "metadata": {
        "id": "GJvrtrLd3UuY"
      },
      "outputs": [],
      "source": [
        "import random\n",
        "from random import randint\n",
        "\n",
        "def tri_insertion(liste):\n",
        "  for i in range(1, len(liste)):\n",
        "    cle = liste[i]\n",
        "    j = i - 1\n",
        "    while j >= 0 and cle < liste[j]:\n",
        "      liste[j + 1] = liste[j]\n",
        "      j -= 1\n",
        "    liste[j + 1] = cle\n"
      ]
    },
    {
      "cell_type": "code",
      "execution_count": null,
      "metadata": {
        "colab": {
          "base_uri": "https://localhost:8080/"
        },
        "id": "BmHSGGXn3YFy",
        "outputId": "8fb2cf93-9591-40ee-c53e-fa5d634f6545"
      },
      "outputs": [
        {
          "name": "stdout",
          "output_type": "stream",
          "text": [
            "[1, 2, 5, 8, 9]\n",
            "['banane', 'cerise', 'orange', 'pomme']\n",
            "[(1, 'banane'), (2, 'orange'), (3, 'pomme')]\n"
          ]
        }
      ],
      "source": [
        "liste1 = [5, 2, 8, 1, 9]\n",
        "tri_insertion(liste1)\n",
        "print(liste1)\n",
        "\n",
        "liste2 = [\"banane\", \"pomme\", \"orange\", \"cerise\"]\n",
        "tri_insertion(liste2)\n",
        "print(liste2)\n",
        "\n",
        "\n",
        "'''\n",
        "  Écrire une fonction qui trie une liste de tuples par le premier élément\n",
        "    de chaque tuple en utilisant le tri par insertion.\n",
        "     `[(3, \"pomme\"), (1, \"banane\"), (2, \"orange\")]`\n",
        "'''\n",
        "\n",
        "def tri_tuples_insertion(liste_tuples):\n",
        "  for i in range(1, len(liste_tuples)):\n",
        "    cle = liste_tuples[i]\n",
        "    j = i - 1\n",
        "    while j >= 0 and cle[0] < liste_tuples[j][0]:\n",
        "      liste_tuples[j + 1] = liste_tuples[j]\n",
        "      j -= 1\n",
        "    liste_tuples[j + 1] = cle\n",
        "\n",
        "liste_tuples = [(3, \"pomme\"), (1, \"banane\"), (2, \"orange\")]\n",
        "tri_tuples_insertion(liste_tuples)\n",
        "print(liste_tuples)"
      ]
    },
    {
      "cell_type": "markdown",
      "metadata": {
        "id": "RQ3wxGHLxYJh"
      },
      "source": []
    }
  ],
  "metadata": {
    "colab": {
      "collapsed_sections": [
        "2GN5bqa6PXuG",
        "szV9IGxnW0Qr",
        "OhmYoa1xw9ck",
        "Xz9ifJeUyrFu"
      ],
      "provenance": []
    },
    "kernelspec": {
      "display_name": "Python 3",
      "name": "python3"
    },
    "language_info": {
      "name": "python"
    }
  },
  "nbformat": 4,
  "nbformat_minor": 0
}
